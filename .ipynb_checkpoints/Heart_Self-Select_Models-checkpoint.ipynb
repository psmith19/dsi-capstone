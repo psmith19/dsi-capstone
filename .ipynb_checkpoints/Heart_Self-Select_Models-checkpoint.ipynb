{
 "cells": [
  {
   "cell_type": "markdown",
   "metadata": {},
   "source": [
    "# Survey Models - Self Selected\n",
    "This notebook models the survey data with hand-selected features using SMOTEN and NearMiss. "
   ]
  },
  {
   "cell_type": "markdown",
   "metadata": {},
   "source": [
    "### Import Libraries & Data"
   ]
  },
  {
   "cell_type": "code",
   "execution_count": 1,
   "metadata": {},
   "outputs": [],
   "source": [
    "import pandas as pd\n",
    "import numpy as np\n",
    "import matplotlib.pyplot as plt\n",
    "import seaborn as sns\n",
    "\n",
    "import missingno as msno\n",
    "\n",
    "from sklearn.model_selection import train_test_split\n",
    "from sklearn.linear_model import LogisticRegression\n",
    "from sklearn.tree import DecisionTreeClassifier\n",
    "from sklearn.feature_selection import VarianceThreshold, SelectKBest, SelectPercentile\n",
    "from sklearn.preprocessing import PolynomialFeatures, StandardScaler\n",
    "from sklearn.decomposition import PCA\n",
    "from imblearn.over_sampling import SMOTEN\n",
    "from imblearn.under_sampling import NearMiss\n",
    "from sklearn.metrics import confusion_matrix, ConfusionMatrixDisplay, classification_report, roc_auc_score"
   ]
  },
  {
   "cell_type": "code",
   "execution_count": 2,
   "metadata": {},
   "outputs": [
    {
     "data": {
      "text/html": [
       "<div>\n",
       "<style scoped>\n",
       "    .dataframe tbody tr th:only-of-type {\n",
       "        vertical-align: middle;\n",
       "    }\n",
       "\n",
       "    .dataframe tbody tr th {\n",
       "        vertical-align: top;\n",
       "    }\n",
       "\n",
       "    .dataframe thead th {\n",
       "        text-align: right;\n",
       "    }\n",
       "</style>\n",
       "<table border=\"1\" class=\"dataframe\">\n",
       "  <thead>\n",
       "    <tr style=\"text-align: right;\">\n",
       "      <th></th>\n",
       "      <th>HHX</th>\n",
       "      <th>URBRRL</th>\n",
       "      <th>REGION</th>\n",
       "      <th>INTV_QRT</th>\n",
       "      <th>SEX_A</th>\n",
       "      <th>EDUC_A</th>\n",
       "      <th>AFNOW</th>\n",
       "      <th>HISP_A</th>\n",
       "      <th>HISPALLP_A</th>\n",
       "      <th>RACEALLP_A</th>\n",
       "      <th>...</th>\n",
       "      <th>HOSPONGT_A</th>\n",
       "      <th>RX12M_A</th>\n",
       "      <th>SHTFLU12M_A</th>\n",
       "      <th>PAIFRQ3M_A</th>\n",
       "      <th>SMKCIGST_A</th>\n",
       "      <th>LEGMSTAT_A</th>\n",
       "      <th>PARSTAT_A</th>\n",
       "      <th>AFVET_A</th>\n",
       "      <th>CITZNSTP_A</th>\n",
       "      <th>EMPWRKLSWK_A</th>\n",
       "    </tr>\n",
       "  </thead>\n",
       "  <tbody>\n",
       "    <tr>\n",
       "      <th>0</th>\n",
       "      <td>H048109</td>\n",
       "      <td>4</td>\n",
       "      <td>3</td>\n",
       "      <td>1</td>\n",
       "      <td>1</td>\n",
       "      <td>7</td>\n",
       "      <td>2.0</td>\n",
       "      <td>2</td>\n",
       "      <td>3</td>\n",
       "      <td>2</td>\n",
       "      <td>...</td>\n",
       "      <td>2</td>\n",
       "      <td>1</td>\n",
       "      <td>2</td>\n",
       "      <td>2.0</td>\n",
       "      <td>4</td>\n",
       "      <td>3</td>\n",
       "      <td>1</td>\n",
       "      <td>1</td>\n",
       "      <td>1</td>\n",
       "      <td>2</td>\n",
       "    </tr>\n",
       "    <tr>\n",
       "      <th>1</th>\n",
       "      <td>H027044</td>\n",
       "      <td>4</td>\n",
       "      <td>3</td>\n",
       "      <td>1</td>\n",
       "      <td>2</td>\n",
       "      <td>6</td>\n",
       "      <td>1.0</td>\n",
       "      <td>2</td>\n",
       "      <td>2</td>\n",
       "      <td>1</td>\n",
       "      <td>...</td>\n",
       "      <td>2</td>\n",
       "      <td>2</td>\n",
       "      <td>2</td>\n",
       "      <td>1.0</td>\n",
       "      <td>2</td>\n",
       "      <td>3</td>\n",
       "      <td>3</td>\n",
       "      <td>2</td>\n",
       "      <td>1</td>\n",
       "      <td>1</td>\n",
       "    </tr>\n",
       "    <tr>\n",
       "      <th>2</th>\n",
       "      <td>H058855</td>\n",
       "      <td>4</td>\n",
       "      <td>3</td>\n",
       "      <td>1</td>\n",
       "      <td>1</td>\n",
       "      <td>5</td>\n",
       "      <td>8.0</td>\n",
       "      <td>2</td>\n",
       "      <td>2</td>\n",
       "      <td>1</td>\n",
       "      <td>...</td>\n",
       "      <td>2</td>\n",
       "      <td>1</td>\n",
       "      <td>1</td>\n",
       "      <td>2.0</td>\n",
       "      <td>4</td>\n",
       "      <td>3</td>\n",
       "      <td>3</td>\n",
       "      <td>1</td>\n",
       "      <td>1</td>\n",
       "      <td>2</td>\n",
       "    </tr>\n",
       "    <tr>\n",
       "      <th>3</th>\n",
       "      <td>H031993</td>\n",
       "      <td>4</td>\n",
       "      <td>3</td>\n",
       "      <td>1</td>\n",
       "      <td>1</td>\n",
       "      <td>7</td>\n",
       "      <td>2.0</td>\n",
       "      <td>1</td>\n",
       "      <td>1</td>\n",
       "      <td>8</td>\n",
       "      <td>...</td>\n",
       "      <td>2</td>\n",
       "      <td>1</td>\n",
       "      <td>2</td>\n",
       "      <td>2.0</td>\n",
       "      <td>4</td>\n",
       "      <td>3</td>\n",
       "      <td>3</td>\n",
       "      <td>1</td>\n",
       "      <td>1</td>\n",
       "      <td>1</td>\n",
       "    </tr>\n",
       "    <tr>\n",
       "      <th>4</th>\n",
       "      <td>H007122</td>\n",
       "      <td>1</td>\n",
       "      <td>3</td>\n",
       "      <td>1</td>\n",
       "      <td>1</td>\n",
       "      <td>5</td>\n",
       "      <td>2.0</td>\n",
       "      <td>2</td>\n",
       "      <td>2</td>\n",
       "      <td>1</td>\n",
       "      <td>...</td>\n",
       "      <td>2</td>\n",
       "      <td>1</td>\n",
       "      <td>1</td>\n",
       "      <td>3.0</td>\n",
       "      <td>1</td>\n",
       "      <td>3</td>\n",
       "      <td>1</td>\n",
       "      <td>2</td>\n",
       "      <td>1</td>\n",
       "      <td>1</td>\n",
       "    </tr>\n",
       "  </tbody>\n",
       "</table>\n",
       "<p>5 rows × 56 columns</p>\n",
       "</div>"
      ],
      "text/plain": [
       "       HHX  URBRRL  REGION  INTV_QRT  SEX_A  EDUC_A  AFNOW  HISP_A  \\\n",
       "0  H048109       4       3         1      1       7    2.0       2   \n",
       "1  H027044       4       3         1      2       6    1.0       2   \n",
       "2  H058855       4       3         1      1       5    8.0       2   \n",
       "3  H031993       4       3         1      1       7    2.0       1   \n",
       "4  H007122       1       3         1      1       5    2.0       2   \n",
       "\n",
       "   HISPALLP_A  RACEALLP_A  ...  HOSPONGT_A  RX12M_A  SHTFLU12M_A  PAIFRQ3M_A  \\\n",
       "0           3           2  ...           2        1            2         2.0   \n",
       "1           2           1  ...           2        2            2         1.0   \n",
       "2           2           1  ...           2        1            1         2.0   \n",
       "3           1           8  ...           2        1            2         2.0   \n",
       "4           2           1  ...           2        1            1         3.0   \n",
       "\n",
       "   SMKCIGST_A  LEGMSTAT_A  PARSTAT_A  AFVET_A  CITZNSTP_A  EMPWRKLSWK_A  \n",
       "0           4           3          1        1           1             2  \n",
       "1           2           3          3        2           1             1  \n",
       "2           4           3          3        1           1             2  \n",
       "3           4           3          3        1           1             1  \n",
       "4           1           3          1        2           1             1  \n",
       "\n",
       "[5 rows x 56 columns]"
      ]
     },
     "execution_count": 2,
     "metadata": {},
     "output_type": "execute_result"
    }
   ],
   "source": [
    "# read in data\n",
    "df = pd.read_csv('./adult19_clean.csv')\n",
    "df.head()"
   ]
  },
  {
   "cell_type": "code",
   "execution_count": 3,
   "metadata": {},
   "outputs": [],
   "source": [
    "# changing datatypes for all columns except the target to objects so they can be dummified since they are categorical values\n",
    "df = df.astype(object)\n",
    "df['CHDEV_A'] = df['CHDEV_A'].astype(int)"
   ]
  },
  {
   "cell_type": "code",
   "execution_count": 4,
   "metadata": {
    "scrolled": true
   },
   "outputs": [
    {
     "name": "stdout",
     "output_type": "stream",
     "text": [
      "<class 'pandas.core.frame.DataFrame'>\n",
      "RangeIndex: 31891 entries, 0 to 31890\n",
      "Data columns (total 56 columns):\n",
      " #   Column        Non-Null Count  Dtype \n",
      "---  ------        --------------  ----- \n",
      " 0   HHX           31891 non-null  object\n",
      " 1   URBRRL        31891 non-null  object\n",
      " 2   REGION        31891 non-null  object\n",
      " 3   INTV_QRT      31891 non-null  object\n",
      " 4   SEX_A         31891 non-null  object\n",
      " 5   EDUC_A        31891 non-null  object\n",
      " 6   AFNOW         31891 non-null  object\n",
      " 7   HISP_A        31891 non-null  object\n",
      " 8   HISPALLP_A    31891 non-null  object\n",
      " 9   RACEALLP_A    31891 non-null  object\n",
      " 10  PCNTTC        31891 non-null  object\n",
      " 11  PCNT18UPTC    31891 non-null  object\n",
      " 12  PCNTLT18TC    31891 non-null  object\n",
      " 13  OVER65FLG_A   31891 non-null  object\n",
      " 14  MAXEDUC_A     31891 non-null  object\n",
      " 15  PHSTAT_A      31891 non-null  object\n",
      " 16  HYPEV_A       31891 non-null  object\n",
      " 17  CHLEV_A       31891 non-null  object\n",
      " 18  CHDEV_A       31891 non-null  int64 \n",
      " 19  ANGEV_A       31891 non-null  object\n",
      " 20  MIEV_A        31891 non-null  object\n",
      " 21  STREV_A       31891 non-null  object\n",
      " 22  ASEV_A        31891 non-null  object\n",
      " 23  CANEV_A       31891 non-null  object\n",
      " 24  NUMCAN_A      31891 non-null  object\n",
      " 25  DEMENEV_A     31891 non-null  object\n",
      " 26  ANXEV_A       31891 non-null  object\n",
      " 27  DEPEV_A       31891 non-null  object\n",
      " 28  ANXFREQ_A     31891 non-null  object\n",
      " 29  DEPFREQ_A     31891 non-null  object\n",
      " 30  PREDIB_A      31891 non-null  object\n",
      " 31  DIBEV_A       31891 non-null  object\n",
      " 32  COPDEV_A      31891 non-null  object\n",
      " 33  BMICAT_A      31891 non-null  object\n",
      " 34  DIFF_A        31891 non-null  object\n",
      " 35  EQUIP_A       31891 non-null  object\n",
      " 36  COGMEMDFF_A   31891 non-null  object\n",
      " 37  MEDICARE_A    31891 non-null  object\n",
      " 38  MEDICAID_A    31891 non-null  object\n",
      " 39  PRIVATE_A     31891 non-null  object\n",
      " 40  NOTCOV_A      31891 non-null  object\n",
      " 41  PAYBLL12M_A   31891 non-null  object\n",
      " 42  PAYWORRY_A    31891 non-null  object\n",
      " 43  LASTDR_A      31891 non-null  object\n",
      " 44  URGNT12MTC_A  31891 non-null  object\n",
      " 45  EMERG12MTC_A  31891 non-null  object\n",
      " 46  HOSPONGT_A    31891 non-null  object\n",
      " 47  RX12M_A       31891 non-null  object\n",
      " 48  SHTFLU12M_A   31891 non-null  object\n",
      " 49  PAIFRQ3M_A    31891 non-null  object\n",
      " 50  SMKCIGST_A    31891 non-null  object\n",
      " 51  LEGMSTAT_A    31891 non-null  object\n",
      " 52  PARSTAT_A     31891 non-null  object\n",
      " 53  AFVET_A       31891 non-null  object\n",
      " 54  CITZNSTP_A    31891 non-null  object\n",
      " 55  EMPWRKLSWK_A  31891 non-null  object\n",
      "dtypes: int64(1), object(55)\n",
      "memory usage: 13.6+ MB\n"
     ]
    }
   ],
   "source": [
    "df.info()"
   ]
  },
  {
   "cell_type": "markdown",
   "metadata": {},
   "source": [
    "## Modeling"
   ]
  },
  {
   "cell_type": "code",
   "execution_count": 11,
   "metadata": {},
   "outputs": [],
   "source": [
    "X = df.drop(columns=['CHDEV_A', 'HHX'])\n",
    "y = df['CHDEV_A']"
   ]
  },
  {
   "cell_type": "code",
   "execution_count": 12,
   "metadata": {},
   "outputs": [],
   "source": [
    "X_dum = pd.get_dummies(X, drop_first=True)"
   ]
  },
  {
   "cell_type": "code",
   "execution_count": 13,
   "metadata": {},
   "outputs": [
    {
     "data": {
      "text/plain": [
       "(31891, 233)"
      ]
     },
     "execution_count": 13,
     "metadata": {},
     "output_type": "execute_result"
    }
   ],
   "source": [
    "X_dum.shape"
   ]
  },
  {
   "cell_type": "code",
   "execution_count": 14,
   "metadata": {},
   "outputs": [
    {
     "data": {
      "text/plain": [
       "0    0.942115\n",
       "1    0.057885\n",
       "Name: CHDEV_A, dtype: float64"
      ]
     },
     "execution_count": 14,
     "metadata": {},
     "output_type": "execute_result"
    }
   ],
   "source": [
    "y.value_counts(normalize=True)"
   ]
  },
  {
   "cell_type": "code",
   "execution_count": 18,
   "metadata": {},
   "outputs": [],
   "source": [
    "# splitting data into train and test sets for X and y variables\n",
    "X_train, X_test, y_train, y_test = train_test_split(X_dum, y, stratify=y, random_state=19)"
   ]
  },
  {
   "cell_type": "markdown",
   "metadata": {},
   "source": [
    "### SMOTEN"
   ]
  },
  {
   "cell_type": "code",
   "execution_count": 74,
   "metadata": {},
   "outputs": [],
   "source": [
    "# creating instances to create balanced classes \n",
    "sm = SMOTEN(random_state=19)\n",
    "X_train_res, y_train_res = sm.fit_resample(X_train, y_train)"
   ]
  },
  {
   "cell_type": "code",
   "execution_count": 75,
   "metadata": {},
   "outputs": [
    {
     "data": {
      "text/plain": [
       "((45068, 233), (45068,))"
      ]
     },
     "execution_count": 75,
     "metadata": {},
     "output_type": "execute_result"
    }
   ],
   "source": [
    "X_train_res.shape, y_train_res.shape"
   ]
  },
  {
   "cell_type": "markdown",
   "metadata": {},
   "source": [
    "#### Base Model"
   ]
  },
  {
   "cell_type": "code",
   "execution_count": 76,
   "metadata": {},
   "outputs": [
    {
     "data": {
      "text/plain": [
       "1    0.5\n",
       "0    0.5\n",
       "Name: CHDEV_A, dtype: float64"
      ]
     },
     "execution_count": 76,
     "metadata": {},
     "output_type": "execute_result"
    }
   ],
   "source": [
    "y_train_res.value_counts(normalize=True)"
   ]
  },
  {
   "cell_type": "code",
   "execution_count": 77,
   "metadata": {},
   "outputs": [
    {
     "data": {
      "text/plain": [
       "0    0.942054\n",
       "1    0.057946\n",
       "Name: CHDEV_A, dtype: float64"
      ]
     },
     "execution_count": 77,
     "metadata": {},
     "output_type": "execute_result"
    }
   ],
   "source": [
    "y_test.value_counts(normalize=True)"
   ]
  },
  {
   "cell_type": "markdown",
   "metadata": {},
   "source": [
    "#### Logistic Regression"
   ]
  },
  {
   "cell_type": "code",
   "execution_count": 78,
   "metadata": {},
   "outputs": [
    {
     "data": {
      "text/plain": [
       "LogisticRegression(max_iter=1000)"
      ]
     },
     "execution_count": 78,
     "metadata": {},
     "output_type": "execute_result"
    }
   ],
   "source": [
    "lr = LogisticRegression(max_iter=1000)\n",
    "lr.fit(X_train_res, y_train_res)"
   ]
  },
  {
   "cell_type": "code",
   "execution_count": 79,
   "metadata": {},
   "outputs": [],
   "source": [
    "lr_preds = lr.predict(X_test)\n",
    "lr_cm = confusion_matrix(y_test, lr_preds)\n",
    "ConfusionMatrixDisplay(lr_cm, display_labels=['No', 'Yes']).plot();"
   ]
  },
  {
   "cell_type": "code",
   "execution_count": 81,
   "metadata": {},
   "outputs": [
    {
     "name": "stdout",
     "output_type": "stream",
     "text": [
      "              precision    recall  f1-score   support\n",
      "\n",
      "           0       0.96      0.99      0.98      7511\n",
      "           1       0.67      0.41      0.51       462\n",
      "\n",
      "    accuracy                           0.95      7973\n",
      "   macro avg       0.82      0.70      0.74      7973\n",
      "weighted avg       0.95      0.95      0.95      7973\n",
      "\n"
     ]
    }
   ],
   "source": [
    "print(classification_report(y_test, lr_preds))"
   ]
  },
  {
   "cell_type": "code",
   "execution_count": 82,
   "metadata": {},
   "outputs": [
    {
     "data": {
      "text/plain": [
       "(0.975548060708263, 0.9542204941678164)"
      ]
     },
     "execution_count": 82,
     "metadata": {},
     "output_type": "execute_result"
    }
   ],
   "source": [
    "lr.score(X_train_res, y_train_res), lr.score(X_test, y_test)"
   ]
  },
  {
   "cell_type": "code",
   "execution_count": 83,
   "metadata": {},
   "outputs": [
    {
     "data": {
      "text/plain": [
       "0.904460470962934"
      ]
     },
     "execution_count": 83,
     "metadata": {},
     "output_type": "execute_result"
    }
   ],
   "source": [
    "roc_auc_score(y_test, lr.predict_proba(X_test)[:,1])"
   ]
  },
  {
   "cell_type": "markdown",
   "metadata": {},
   "source": [
    "#### Decision Tree"
   ]
  },
  {
   "cell_type": "code",
   "execution_count": 84,
   "metadata": {},
   "outputs": [
    {
     "data": {
      "text/plain": [
       "DecisionTreeClassifier(random_state=19)"
      ]
     },
     "execution_count": 84,
     "metadata": {},
     "output_type": "execute_result"
    }
   ],
   "source": [
    "tree = DecisionTreeClassifier(random_state=19)\n",
    "tree.fit(X_train_res, y_train_res)"
   ]
  },
  {
   "cell_type": "code",
   "execution_count": 85,
   "metadata": {},
   "outputs": [
    {
     "data": {
      "image/png": "[encoded data removed]",
      "text/plain": [
       "<Figure size 432x288 with 2 Axes>"
      ]
     },
     "metadata": {
      "needs_background": "light"
     },
     "output_type": "display_data"
    }
   ],
   "source": [
    "tree_preds = tree.predict(X_test)\n",
    "tree_cm = confusion_matrix(y_test, tree_preds)\n",
    "ConfusionMatrixDisplay(tree_cm).plot();"
   ]
  },
  {
   "cell_type": "code",
   "execution_count": 86,
   "metadata": {},
   "outputs": [
    {
     "name": "stdout",
     "output_type": "stream",
     "text": [
      "              precision    recall  f1-score   support\n",
      "\n",
      "           0       0.96      0.95      0.95      7511\n",
      "           1       0.30      0.35      0.33       462\n",
      "\n",
      "    accuracy                           0.92      7973\n",
      "   macro avg       0.63      0.65      0.64      7973\n",
      "weighted avg       0.92      0.92      0.92      7973\n",
      "\n"
     ]
    }
   ],
   "source": [
    "print(classification_report(y_test, tree_preds))"
   ]
  },
  {
   "cell_type": "code",
   "execution_count": 87,
   "metadata": {},
   "outputs": [
    {
     "data": {
      "text/plain": [
       "(1.0, 0.915213846732723)"
      ]
     },
     "execution_count": 87,
     "metadata": {},
     "output_type": "execute_result"
    }
   ],
   "source": [
    "tree.score(X_train_res, y_train_res), tree.score(X_test, y_test)"
   ]
  },
  {
   "cell_type": "markdown",
   "metadata": {},
   "source": [
    "### Near Miss"
   ]
  },
  {
   "cell_type": "code",
   "execution_count": 88,
   "metadata": {},
   "outputs": [],
   "source": [
    "# removing instances to create balanced classes\n",
    "nm = NearMiss()\n",
    "X_train_miss, y_train_miss = nm.fit_resample(X_train, y_train)"
   ]
  },
  {
   "cell_type": "code",
   "execution_count": 89,
   "metadata": {},
   "outputs": [
    {
     "data": {
      "text/plain": [
       "((2768, 233), (2768,))"
      ]
     },
     "execution_count": 89,
     "metadata": {},
     "output_type": "execute_result"
    }
   ],
   "source": [
    "X_train_miss.shape, y_train_miss.shape"
   ]
  },
  {
   "cell_type": "markdown",
   "metadata": {},
   "source": [
    "#### Base Model"
   ]
  },
  {
   "cell_type": "code",
   "execution_count": 90,
   "metadata": {},
   "outputs": [
    {
     "data": {
      "text/plain": [
       "1    0.5\n",
       "0    0.5\n",
       "Name: CHDEV_A, dtype: float64"
      ]
     },
     "execution_count": 90,
     "metadata": {},
     "output_type": "execute_result"
    }
   ],
   "source": [
    "y_train_miss.value_counts(normalize=True)"
   ]
  },
  {
   "cell_type": "code",
   "execution_count": 91,
   "metadata": {},
   "outputs": [
    {
     "data": {
      "text/plain": [
       "0    0.942136\n",
       "1    0.057864\n",
       "Name: CHDEV_A, dtype: float64"
      ]
     },
     "execution_count": 91,
     "metadata": {},
     "output_type": "execute_result"
    }
   ],
   "source": [
    "y_train.value_counts(normalize=True)"
   ]
  },
  {
   "cell_type": "markdown",
   "metadata": {},
   "source": [
    "#### Logistic Regression"
   ]
  },
  {
   "cell_type": "code",
   "execution_count": 92,
   "metadata": {},
   "outputs": [
    {
     "data": {
      "text/plain": [
       "LogisticRegression(max_iter=1000)"
      ]
     },
     "execution_count": 92,
     "metadata": {},
     "output_type": "execute_result"
    }
   ],
   "source": [
    "lr_nm = LogisticRegression(max_iter=1000)\n",
    "lr_nm.fit(X_train_miss, y_train_miss)"
   ]
  },
  {
   "cell_type": "code",
   "execution_count": 93,
   "metadata": {},
   "outputs": [],
   "source": [
    "nm_preds = lr_nm.predict(X_test)"
   ]
  },
  {
   "cell_type": "code",
   "execution_count": 94,
   "metadata": {},
   "outputs": [
    {
     "data": {
      "image/png": "[encoded data removed]",
      "text/plain": [
       "<Figure size 432x288 with 2 Axes>"
      ]
     },
     "metadata": {
      "needs_background": "light"
     },
     "output_type": "display_data"
    }
   ],
   "source": [
    "nm_cm = confusion_matrix(y_test, nm_preds)\n",
    "ConfusionMatrixDisplay(nm_cm, display_labels=['No', 'Yes']).plot();"
   ]
  },
  {
   "cell_type": "code",
   "execution_count": 95,
   "metadata": {},
   "outputs": [
    {
     "name": "stdout",
     "output_type": "stream",
     "text": [
      "              precision    recall  f1-score   support\n",
      "\n",
      "           0       0.98      0.36      0.52      7511\n",
      "           1       0.08      0.89      0.14       462\n",
      "\n",
      "    accuracy                           0.39      7973\n",
      "   macro avg       0.53      0.62      0.33      7973\n",
      "weighted avg       0.93      0.39      0.50      7973\n",
      "\n"
     ]
    }
   ],
   "source": [
    "print(classification_report(y_test, nm_preds))"
   ]
  },
  {
   "cell_type": "code",
   "execution_count": 96,
   "metadata": {},
   "outputs": [
    {
     "data": {
      "text/plain": [
       "(0.9179913294797688, 0.3888122413144362)"
      ]
     },
     "execution_count": 96,
     "metadata": {},
     "output_type": "execute_result"
    }
   ],
   "source": [
    "lr_nm.score(X_train_miss, y_train_miss), lr_nm.score(X_test, y_test)"
   ]
  },
  {
   "cell_type": "code",
   "execution_count": 97,
   "metadata": {},
   "outputs": [
    {
     "data": {
      "text/plain": [
       "0.7417493304192813"
      ]
     },
     "execution_count": 97,
     "metadata": {},
     "output_type": "execute_result"
    }
   ],
   "source": [
    "roc_auc_score(y_test, lr_nm.predict_proba(X_test)[:,1])"
   ]
  },
  {
   "cell_type": "markdown",
   "metadata": {},
   "source": [
    "#### Decision Tree"
   ]
  },
  {
   "cell_type": "code",
   "execution_count": 98,
   "metadata": {},
   "outputs": [
    {
     "data": {
      "text/plain": [
       "DecisionTreeClassifier(random_state=19)"
      ]
     },
     "execution_count": 98,
     "metadata": {},
     "output_type": "execute_result"
    }
   ],
   "source": [
    "tnm = DecisionTreeClassifier(random_state=19)\n",
    "tnm.fit(X_train_miss, y_train_miss)"
   ]
  },
  {
   "cell_type": "code",
   "execution_count": 99,
   "metadata": {},
   "outputs": [
    {
     "data": {
      "image/png": "[encoded data removed]",
      "text/plain": [
       "<Figure size 432x288 with 2 Axes>"
      ]
     },
     "metadata": {
      "needs_background": "light"
     },
     "output_type": "display_data"
    }
   ],
   "source": [
    "tnm_preds = tnm.predict(X_test)\n",
    "tnm_cm = confusion_matrix(y_test, tnm_preds)\n",
    "ConfusionMatrixDisplay(tnm_cm).plot();"
   ]
  },
  {
   "cell_type": "code",
   "execution_count": 100,
   "metadata": {},
   "outputs": [
    {
     "name": "stdout",
     "output_type": "stream",
     "text": [
      "              precision    recall  f1-score   support\n",
      "\n",
      "           0       0.98      0.49      0.65      7511\n",
      "           1       0.09      0.84      0.17       462\n",
      "\n",
      "    accuracy                           0.51      7973\n",
      "   macro avg       0.54      0.66      0.41      7973\n",
      "weighted avg       0.93      0.51      0.63      7973\n",
      "\n"
     ]
    }
   ],
   "source": [
    "print(classification_report(y_test, tnm_preds))"
   ]
  },
  {
   "cell_type": "code",
   "execution_count": 101,
   "metadata": {},
   "outputs": [
    {
     "data": {
      "text/plain": [
       "(1.0, 0.5104728458547598)"
      ]
     },
     "execution_count": 101,
     "metadata": {},
     "output_type": "execute_result"
    }
   ],
   "source": [
    "tnm.score(X_train_miss, y_train_miss), tnm.score(X_test, y_test)"
   ]
  },
  {
   "cell_type": "markdown",
   "metadata": {},
   "source": [
    "### SelectKBest"
   ]
  },
  {
   "cell_type": "code",
   "execution_count": 16,
   "metadata": {},
   "outputs": [],
   "source": [
    "kb = SelectKBest(k=10)\n",
    "X_kb = kb.fit_transform(X_dum, y)"
   ]
  },
  {
   "cell_type": "code",
   "execution_count": 28,
   "metadata": {},
   "outputs": [],
   "source": [
    "# splitting data into train and test sets for X and y variables\n",
    "X_train, X_test, y_train, y_test = train_test_split(X_kb, y, stratify=y, random_state=19)"
   ]
  },
  {
   "cell_type": "code",
   "execution_count": 29,
   "metadata": {},
   "outputs": [],
   "source": [
    "# creating instances to create balanced classes \n",
    "sm = SMOTEN(random_state=19)\n",
    "X_train_res, y_train_res = sm.fit_resample(X_train, y_train)"
   ]
  },
  {
   "cell_type": "code",
   "execution_count": 30,
   "metadata": {},
   "outputs": [
    {
     "data": {
      "text/plain": [
       "((45068, 10), (45068,))"
      ]
     },
     "execution_count": 30,
     "metadata": {},
     "output_type": "execute_result"
    }
   ],
   "source": [
    "X_train_res.shape, y_train_res.shape"
   ]
  },
  {
   "cell_type": "code",
   "execution_count": 31,
   "metadata": {},
   "outputs": [
    {
     "data": {
      "text/plain": [
       "LogisticRegression(max_iter=1000)"
      ]
     },
     "execution_count": 31,
     "metadata": {},
     "output_type": "execute_result"
    }
   ],
   "source": [
    "lrk = LogisticRegression(max_iter=1000)\n",
    "lrk.fit(X_train_res, y_train_res)"
   ]
  },
  {
   "cell_type": "code",
   "execution_count": 32,
   "metadata": {},
   "outputs": [
    {
     "data": {
      "image/png": "[encoded data removed]",
      "text/plain": [
       "<Figure size 432x288 with 2 Axes>"
      ]
     },
     "metadata": {
      "needs_background": "light"
     },
     "output_type": "display_data"
    }
   ],
   "source": [
    "lrk_preds = lrk.predict(X_test)\n",
    "lrk_cm = confusion_matrix(y_test, lrk_preds)\n",
    "ConfusionMatrixDisplay(lrk_cm, display_labels=['No', 'Yes']).plot();"
   ]
  },
  {
   "cell_type": "code",
   "execution_count": 33,
   "metadata": {},
   "outputs": [
    {
     "name": "stdout",
     "output_type": "stream",
     "text": [
      "              precision    recall  f1-score   support\n",
      "\n",
      "           0       0.99      0.84      0.91      7511\n",
      "           1       0.24      0.80      0.36       462\n",
      "\n",
      "    accuracy                           0.84      7973\n",
      "   macro avg       0.61      0.82      0.64      7973\n",
      "weighted avg       0.94      0.84      0.88      7973\n",
      "\n"
     ]
    }
   ],
   "source": [
    "print(classification_report(y_test, lrk_preds))"
   ]
  },
  {
   "cell_type": "code",
   "execution_count": 34,
   "metadata": {},
   "outputs": [
    {
     "data": {
      "text/plain": [
       "(0.8198500044377385, 0.8375768217734855)"
      ]
     },
     "execution_count": 34,
     "metadata": {},
     "output_type": "execute_result"
    }
   ],
   "source": [
    "lrk.score(X_train_res, y_train_res), lrk.score(X_test, y_test)"
   ]
  },
  {
   "cell_type": "code",
   "execution_count": 35,
   "metadata": {},
   "outputs": [
    {
     "data": {
      "text/plain": [
       "0.9112441723279162"
      ]
     },
     "execution_count": 35,
     "metadata": {},
     "output_type": "execute_result"
    }
   ],
   "source": [
    "roc_auc_score(y_test, lrk.predict_proba(X_test)[:,1])"
   ]
  },
  {
   "cell_type": "code",
   "execution_count": 36,
   "metadata": {},
   "outputs": [
    {
     "data": {
      "text/html": [
       "<div>\n",
       "<style scoped>\n",
       "    .dataframe tbody tr th:only-of-type {\n",
       "        vertical-align: middle;\n",
       "    }\n",
       "\n",
       "    .dataframe tbody tr th {\n",
       "        vertical-align: top;\n",
       "    }\n",
       "\n",
       "    .dataframe thead th {\n",
       "        text-align: right;\n",
       "    }\n",
       "</style>\n",
       "<table border=\"1\" class=\"dataframe\">\n",
       "  <thead>\n",
       "    <tr style=\"text-align: right;\">\n",
       "      <th></th>\n",
       "      <th>coefs</th>\n",
       "      <th>features</th>\n",
       "      <th>feature_names</th>\n",
       "    </tr>\n",
       "  </thead>\n",
       "  <tbody>\n",
       "    <tr>\n",
       "      <th>1</th>\n",
       "      <td>1.942693</td>\n",
       "      <td>25</td>\n",
       "      <td>AFNOW_8.0</td>\n",
       "    </tr>\n",
       "    <tr>\n",
       "      <th>0</th>\n",
       "      <td>1.796486</td>\n",
       "      <td>23</td>\n",
       "      <td>AFNOW_2.0</td>\n",
       "    </tr>\n",
       "    <tr>\n",
       "      <th>2</th>\n",
       "      <td>0.640178</td>\n",
       "      <td>53</td>\n",
       "      <td>OVER65FLG_A_1</td>\n",
       "    </tr>\n",
       "    <tr>\n",
       "      <th>9</th>\n",
       "      <td>0.589735</td>\n",
       "      <td>231</td>\n",
       "      <td>EMPWRKLSWK_A_2</td>\n",
       "    </tr>\n",
       "    <tr>\n",
       "      <th>8</th>\n",
       "      <td>-0.388614</td>\n",
       "      <td>145</td>\n",
       "      <td>MEDICARE_A_3</td>\n",
       "    </tr>\n",
       "    <tr>\n",
       "      <th>7</th>\n",
       "      <td>-0.670145</td>\n",
       "      <td>136</td>\n",
       "      <td>EQUIP_A_2</td>\n",
       "    </tr>\n",
       "    <tr>\n",
       "      <th>4</th>\n",
       "      <td>-0.747139</td>\n",
       "      <td>74</td>\n",
       "      <td>CHLEV_A_2</td>\n",
       "    </tr>\n",
       "    <tr>\n",
       "      <th>3</th>\n",
       "      <td>-1.017392</td>\n",
       "      <td>71</td>\n",
       "      <td>HYPEV_A_2</td>\n",
       "    </tr>\n",
       "    <tr>\n",
       "      <th>5</th>\n",
       "      <td>-2.448198</td>\n",
       "      <td>77</td>\n",
       "      <td>ANGEV_A_2</td>\n",
       "    </tr>\n",
       "    <tr>\n",
       "      <th>6</th>\n",
       "      <td>-3.435751</td>\n",
       "      <td>79</td>\n",
       "      <td>MIEV_A_2</td>\n",
       "    </tr>\n",
       "  </tbody>\n",
       "</table>\n",
       "</div>"
      ],
      "text/plain": [
       "      coefs  features   feature_names\n",
       "1  1.942693        25       AFNOW_8.0\n",
       "0  1.796486        23       AFNOW_2.0\n",
       "2  0.640178        53   OVER65FLG_A_1\n",
       "9  0.589735       231  EMPWRKLSWK_A_2\n",
       "8 -0.388614       145    MEDICARE_A_3\n",
       "7 -0.670145       136       EQUIP_A_2\n",
       "4 -0.747139        74       CHLEV_A_2\n",
       "3 -1.017392        71       HYPEV_A_2\n",
       "5 -2.448198        77       ANGEV_A_2\n",
       "6 -3.435751        79        MIEV_A_2"
      ]
     },
     "execution_count": 36,
     "metadata": {},
     "output_type": "execute_result"
    }
   ],
   "source": [
    "coef_df = pd.DataFrame({'coefs': lrk.coef_[0], 'features': kb.get_support(indices=True)})\n",
    "coef_df['feature_names'] = [X_dum.columns[i] for i in coef_df['features']]\n",
    "coef_df.sort_values('coefs', ascending=False)"
   ]
  },
  {
   "cell_type": "code",
   "execution_count": null,
   "metadata": {},
   "outputs": [],
   "source": []
  }
 ],
 "metadata": {
  "kernelspec": {
   "display_name": "Python 3",
   "language": "python",
   "name": "python3"
  },
  "language_info": {
   "codemirror_mode": {
    "name": "ipython",
    "version": 3
   },
   "file_extension": ".py",
   "mimetype": "text/x-python",
   "name": "python",
   "nbconvert_exporter": "python",
   "pygments_lexer": "ipython3",
   "version": "3.8.2"
  }
 },
 "nbformat": 4,
 "nbformat_minor": 4
}
