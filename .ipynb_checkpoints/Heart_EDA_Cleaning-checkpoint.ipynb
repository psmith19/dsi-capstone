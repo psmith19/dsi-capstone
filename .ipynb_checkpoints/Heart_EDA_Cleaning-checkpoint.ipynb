{
 "cells": [
  {
   "cell_type": "markdown",
   "metadata": {},
   "source": [
    "# Survey EDA, Cleaning & Pre-Modeling\n",
    "This notebook has cleaning and EDA for the survey data (adult19.csv) then saves the clean, parsed dataset as adult19_clean.csv. It also has some pre-modeling of non-parsed data using SelectKbest."
   ]
  },
  {
   "cell_type": "markdown",
   "metadata": {},
   "source": [
    "### Importing Libraries and Data"
   ]
  },
  {
   "cell_type": "code",
   "execution_count": 1,
   "metadata": {},
   "outputs": [],
   "source": [
    "import pandas as pd\n",
    "import numpy as np\n",
    "import matplotlib.pyplot as plt\n",
    "import seaborn as sns\n",
    "\n",
    "import missingno as msno\n",
    "\n",
    "from sklearn.model_selection import train_test_split\n",
    "from sklearn.linear_model import LogisticRegression\n",
    "from sklearn.feature_selection import VarianceThreshold, SelectKBest, SelectPercentile\n",
    "from sklearn.preprocessing import PolynomialFeatures, StandardScaler\n",
    "from sklearn.decomposition import PCA\n",
    "from imblearn.over_sampling import SMOTEN\n",
    "from imblearn.under_sampling import NearMiss\n",
    "from sklearn.metrics import confusion_matrix, ConfusionMatrixDisplay, classification_report, roc_auc_score"
   ]
  },
  {
   "cell_type": "code",
   "execution_count": 2,
   "metadata": {},
   "outputs": [
    {
     "data": {
      "text/html": [
       "<div>\n",
       "<style scoped>\n",
       "    .dataframe tbody tr th:only-of-type {\n",
       "        vertical-align: middle;\n",
       "    }\n",
       "\n",
       "    .dataframe tbody tr th {\n",
       "        vertical-align: top;\n",
       "    }\n",
       "\n",
       "    .dataframe thead th {\n",
       "        text-align: right;\n",
       "    }\n",
       "</style>\n",
       "<table border=\"1\" class=\"dataframe\">\n",
       "  <thead>\n",
       "    <tr style=\"text-align: right;\">\n",
       "      <th></th>\n",
       "      <th>URBRRL</th>\n",
       "      <th>RATCAT_A</th>\n",
       "      <th>INCGRP_A</th>\n",
       "      <th>INCTCFLG_A</th>\n",
       "      <th>FAMINCTC_A</th>\n",
       "      <th>IMPINCFLG_A</th>\n",
       "      <th>PPSU</th>\n",
       "      <th>PSTRAT</th>\n",
       "      <th>HISPALLP_A</th>\n",
       "      <th>RACEALLP_A</th>\n",
       "      <th>...</th>\n",
       "      <th>PROXYREL_A</th>\n",
       "      <th>PROXY_A</th>\n",
       "      <th>AVAIL_A</th>\n",
       "      <th>HHSTAT_A</th>\n",
       "      <th>INTV_QRT</th>\n",
       "      <th>RECTYPE</th>\n",
       "      <th>WTFA_A</th>\n",
       "      <th>WTIA_A</th>\n",
       "      <th>HHX</th>\n",
       "      <th>POVRATTC_A</th>\n",
       "    </tr>\n",
       "  </thead>\n",
       "  <tbody>\n",
       "    <tr>\n",
       "      <th>0</th>\n",
       "      <td>4</td>\n",
       "      <td>9</td>\n",
       "      <td>3</td>\n",
       "      <td>0</td>\n",
       "      <td>60000</td>\n",
       "      <td>2</td>\n",
       "      <td>2</td>\n",
       "      <td>122</td>\n",
       "      <td>3</td>\n",
       "      <td>2</td>\n",
       "      <td>...</td>\n",
       "      <td>NaN</td>\n",
       "      <td>NaN</td>\n",
       "      <td>1</td>\n",
       "      <td>1</td>\n",
       "      <td>1</td>\n",
       "      <td>10</td>\n",
       "      <td>13177.008</td>\n",
       "      <td>7601.336</td>\n",
       "      <td>H048109</td>\n",
       "      <td>2.96</td>\n",
       "    </tr>\n",
       "    <tr>\n",
       "      <th>1</th>\n",
       "      <td>4</td>\n",
       "      <td>9</td>\n",
       "      <td>3</td>\n",
       "      <td>0</td>\n",
       "      <td>50000</td>\n",
       "      <td>0</td>\n",
       "      <td>2</td>\n",
       "      <td>122</td>\n",
       "      <td>2</td>\n",
       "      <td>1</td>\n",
       "      <td>...</td>\n",
       "      <td>NaN</td>\n",
       "      <td>NaN</td>\n",
       "      <td>1</td>\n",
       "      <td>1</td>\n",
       "      <td>1</td>\n",
       "      <td>10</td>\n",
       "      <td>6140.552</td>\n",
       "      <td>3344.434</td>\n",
       "      <td>H027044</td>\n",
       "      <td>2.97</td>\n",
       "    </tr>\n",
       "    <tr>\n",
       "      <th>2</th>\n",
       "      <td>4</td>\n",
       "      <td>12</td>\n",
       "      <td>3</td>\n",
       "      <td>0</td>\n",
       "      <td>65000</td>\n",
       "      <td>1</td>\n",
       "      <td>2</td>\n",
       "      <td>122</td>\n",
       "      <td>2</td>\n",
       "      <td>1</td>\n",
       "      <td>...</td>\n",
       "      <td>NaN</td>\n",
       "      <td>NaN</td>\n",
       "      <td>1</td>\n",
       "      <td>1</td>\n",
       "      <td>1</td>\n",
       "      <td>10</td>\n",
       "      <td>9191.061</td>\n",
       "      <td>6949.498</td>\n",
       "      <td>H058855</td>\n",
       "      <td>4.28</td>\n",
       "    </tr>\n",
       "    <tr>\n",
       "      <th>3</th>\n",
       "      <td>4</td>\n",
       "      <td>14</td>\n",
       "      <td>5</td>\n",
       "      <td>0</td>\n",
       "      <td>120000</td>\n",
       "      <td>0</td>\n",
       "      <td>2</td>\n",
       "      <td>122</td>\n",
       "      <td>1</td>\n",
       "      <td>8</td>\n",
       "      <td>...</td>\n",
       "      <td>NaN</td>\n",
       "      <td>NaN</td>\n",
       "      <td>1</td>\n",
       "      <td>1</td>\n",
       "      <td>1</td>\n",
       "      <td>10</td>\n",
       "      <td>7900.035</td>\n",
       "      <td>6446.327</td>\n",
       "      <td>H031993</td>\n",
       "      <td>7.13</td>\n",
       "    </tr>\n",
       "    <tr>\n",
       "      <th>4</th>\n",
       "      <td>1</td>\n",
       "      <td>4</td>\n",
       "      <td>1</td>\n",
       "      <td>0</td>\n",
       "      <td>30000</td>\n",
       "      <td>0</td>\n",
       "      <td>2</td>\n",
       "      <td>115</td>\n",
       "      <td>2</td>\n",
       "      <td>1</td>\n",
       "      <td>...</td>\n",
       "      <td>NaN</td>\n",
       "      <td>NaN</td>\n",
       "      <td>1</td>\n",
       "      <td>1</td>\n",
       "      <td>1</td>\n",
       "      <td>10</td>\n",
       "      <td>10875.772</td>\n",
       "      <td>8646.586</td>\n",
       "      <td>H007122</td>\n",
       "      <td>1.13</td>\n",
       "    </tr>\n",
       "  </tbody>\n",
       "</table>\n",
       "<p>5 rows × 534 columns</p>\n",
       "</div>"
      ],
      "text/plain": [
       "   URBRRL  RATCAT_A  INCGRP_A  INCTCFLG_A  FAMINCTC_A  IMPINCFLG_A  PPSU  \\\n",
       "0       4         9         3           0       60000            2     2   \n",
       "1       4         9         3           0       50000            0     2   \n",
       "2       4        12         3           0       65000            1     2   \n",
       "3       4        14         5           0      120000            0     2   \n",
       "4       1         4         1           0       30000            0     2   \n",
       "\n",
       "   PSTRAT  HISPALLP_A  RACEALLP_A  ...  PROXYREL_A  PROXY_A  AVAIL_A  \\\n",
       "0     122           3           2  ...         NaN      NaN        1   \n",
       "1     122           2           1  ...         NaN      NaN        1   \n",
       "2     122           2           1  ...         NaN      NaN        1   \n",
       "3     122           1           8  ...         NaN      NaN        1   \n",
       "4     115           2           1  ...         NaN      NaN        1   \n",
       "\n",
       "   HHSTAT_A  INTV_QRT  RECTYPE     WTFA_A    WTIA_A      HHX  POVRATTC_A  \n",
       "0         1         1       10  13177.008  7601.336  H048109        2.96  \n",
       "1         1         1       10   6140.552  3344.434  H027044        2.97  \n",
       "2         1         1       10   9191.061  6949.498  H058855        4.28  \n",
       "3         1         1       10   7900.035  6446.327  H031993        7.13  \n",
       "4         1         1       10  10875.772  8646.586  H007122        1.13  \n",
       "\n",
       "[5 rows x 534 columns]"
      ]
     },
     "execution_count": 2,
     "metadata": {},
     "output_type": "execute_result"
    }
   ],
   "source": [
    "# read in data\n",
    "df = pd.read_csv('./adult19.csv')\n",
    "df.head()"
   ]
  },
  {
   "cell_type": "code",
   "execution_count": 3,
   "metadata": {},
   "outputs": [
    {
     "data": {
      "text/plain": [
       "(31997, 534)"
      ]
     },
     "execution_count": 3,
     "metadata": {},
     "output_type": "execute_result"
    }
   ],
   "source": [
    "df.shape"
   ]
  },
  {
   "cell_type": "markdown",
   "metadata": {},
   "source": [
    "### EDA & Cleaning"
   ]
  },
  {
   "cell_type": "code",
   "execution_count": 4,
   "metadata": {},
   "outputs": [
    {
     "data": {
      "text/plain": [
       "2    30048\n",
       "1     1846\n",
       "9       67\n",
       "7       35\n",
       "8        1\n",
       "Name: CHDEV_A, dtype: int64"
      ]
     },
     "execution_count": 4,
     "metadata": {},
     "output_type": "execute_result"
    }
   ],
   "source": [
    "# checking value count of coronary heart disease to decide on target feature\n",
    "df['CHDEV_A'].value_counts(normalize=False)\n",
    "# 1=yes, 2=no, 7=refused, 9=don't know"
   ]
  },
  {
   "cell_type": "code",
   "execution_count": 5,
   "metadata": {},
   "outputs": [
    {
     "data": {
      "text/plain": [
       "2    0.639372\n",
       "1    0.358784\n",
       "7    0.001125\n",
       "9    0.000719\n",
       "Name: HYPEV_A, dtype: float64"
      ]
     },
     "execution_count": 5,
     "metadata": {},
     "output_type": "execute_result"
    }
   ],
   "source": [
    "# hypertension value counts\n",
    "df['HYPEV_A'].value_counts(normalize=True) # hypertension"
   ]
  },
  {
   "cell_type": "code",
   "execution_count": 6,
   "metadata": {},
   "outputs": [
    {
     "data": {
      "text/plain": [
       "2.0    1123\n",
       "1.0     462\n",
       "9.0      11\n",
       "7.0       2\n",
       "Name: PROSTCAN_A, dtype: int64"
      ]
     },
     "execution_count": 6,
     "metadata": {},
     "output_type": "execute_result"
    }
   ],
   "source": [
    "# prostate cancer value types\n",
    "df['PROSTCAN_A'].value_counts(normalize=False) # prostate cancer"
   ]
  },
  {
   "cell_type": "code",
   "execution_count": 7,
   "metadata": {},
   "outputs": [
    {
     "data": {
      "text/plain": [
       "2    0.893646\n",
       "1    0.104854\n",
       "7    0.001094\n",
       "9    0.000406\n",
       "Name: DIBEV_A, dtype: float64"
      ]
     },
     "execution_count": 7,
     "metadata": {},
     "output_type": "execute_result"
    }
   ],
   "source": [
    "# diabetes value counts\n",
    "df['DIBEV_A'].value_counts(normalize=True) #diabetes"
   ]
  },
  {
   "cell_type": "code",
   "execution_count": 4,
   "metadata": {},
   "outputs": [],
   "source": [
    "# finding columns with more than half of values missing\n",
    "most_nulls = [column for column in df.columns if df[column].isnull().sum() > 16_000]"
   ]
  },
  {
   "cell_type": "code",
   "execution_count": 9,
   "metadata": {},
   "outputs": [
    {
     "data": {
      "text/plain": [
       "291"
      ]
     },
     "execution_count": 9,
     "metadata": {},
     "output_type": "execute_result"
    }
   ],
   "source": [
    "# number of columns with mostly null values\n",
    "len(most_nulls)"
   ]
  },
  {
   "cell_type": "code",
   "execution_count": 10,
   "metadata": {},
   "outputs": [
    {
     "name": "stdout",
     "output_type": "stream",
     "text": [
      "no\n"
     ]
    }
   ],
   "source": [
    "# checking if specific columns in list of null columns\n",
    "if 'CHDEV_A' in most_nulls:\n",
    "    print('yes')\n",
    "else:\n",
    "    print('no')"
   ]
  },
  {
   "cell_type": "code",
   "execution_count": 5,
   "metadata": {},
   "outputs": [],
   "source": [
    "# dropping mostly null columns\n",
    "df.drop(columns=most_nulls, inplace=True)"
   ]
  },
  {
   "cell_type": "code",
   "execution_count": 6,
   "metadata": {},
   "outputs": [
    {
     "data": {
      "text/plain": [
       "(31997, 243)"
      ]
     },
     "execution_count": 6,
     "metadata": {},
     "output_type": "execute_result"
    }
   ],
   "source": [
    "# now has 243 columns\n",
    "df.shape"
   ]
  },
  {
   "cell_type": "code",
   "execution_count": 13,
   "metadata": {},
   "outputs": [
    {
     "data": {
      "text/html": [
       "<div>\n",
       "<style scoped>\n",
       "    .dataframe tbody tr th:only-of-type {\n",
       "        vertical-align: middle;\n",
       "    }\n",
       "\n",
       "    .dataframe tbody tr th {\n",
       "        vertical-align: top;\n",
       "    }\n",
       "\n",
       "    .dataframe thead th {\n",
       "        text-align: right;\n",
       "    }\n",
       "</style>\n",
       "<table border=\"1\" class=\"dataframe\">\n",
       "  <thead>\n",
       "    <tr style=\"text-align: right;\">\n",
       "      <th></th>\n",
       "      <th>URBRRL</th>\n",
       "      <th>RATCAT_A</th>\n",
       "      <th>INCGRP_A</th>\n",
       "      <th>INCTCFLG_A</th>\n",
       "      <th>FAMINCTC_A</th>\n",
       "      <th>IMPINCFLG_A</th>\n",
       "      <th>PPSU</th>\n",
       "      <th>PSTRAT</th>\n",
       "      <th>HISPALLP_A</th>\n",
       "      <th>RACEALLP_A</th>\n",
       "      <th>...</th>\n",
       "      <th>HYPEV_A</th>\n",
       "      <th>PHSTAT_A</th>\n",
       "      <th>AVAIL_A</th>\n",
       "      <th>HHSTAT_A</th>\n",
       "      <th>INTV_QRT</th>\n",
       "      <th>RECTYPE</th>\n",
       "      <th>WTFA_A</th>\n",
       "      <th>WTIA_A</th>\n",
       "      <th>HHX</th>\n",
       "      <th>POVRATTC_A</th>\n",
       "    </tr>\n",
       "  </thead>\n",
       "  <tbody>\n",
       "  </tbody>\n",
       "</table>\n",
       "<p>0 rows × 243 columns</p>\n",
       "</div>"
      ],
      "text/plain": [
       "Empty DataFrame\n",
       "Columns: [URBRRL, RATCAT_A, INCGRP_A, INCTCFLG_A, FAMINCTC_A, IMPINCFLG_A, PPSU, PSTRAT, HISPALLP_A, RACEALLP_A, DISAB3_A, AFNOW, PHQCAT_A, CITZNSTP_A, LEGMSTAT_A, MARSTAT_A, HHRESPSA_FLG, GADCAT_A, PCNTADTWFP_A, PCNTADTWKP_A, FDSCAT4_A, FDSCAT3_A, EMPDYSMSS2_A, EMPWRKFT_A, EMPWRKLSWK_A, EMPWKHRS2_A, SMKECIGST_A, SMKCIGST_A, BMICAT_A, WEIGHTLBTC_A, HEIGHTTC_A, URGNT12MTC_A, EMERG12MTC_A, PCNTTC, PCNT18UPTC, PCNTLT18TC, COVER_A, EXCHANGE_A, NOTCOV_A, PLNWRKR1_A, HICOSTR1_A, OTHGOV_A, OTHPUB_A, IHS_A, MILITARY_A, CHIP_A, MEDICAID_A, MEDICARE_A, PRIVATE_A, EXCHPR1_A, EDUC_A, MAXEDUC_A, PARSTAT_A, SAPARENTSC_A, MLTFAMFLG_A, OVER65FLG_A, PCNTFAM_A, PCNTADLT_A, PCNTKIDS_A, NUMCAN_A, HISDETP_A, HISP_A, REGION, SRVY_YR, SEX_A, AGEP_A, ASTATNEW, HOUTENURE_A, HOUYRSLIV_A, FDSBALANCE_A, FDSLAST_A, FDSRUNOUT_A, FSNAP12M_A, INCOTHR_A, INCRETIRE_A, INCWELF_A, INCSSISSDI_A, INCSSRR_A, INCINTER_A, INCWRKO_A, EMPOFFHI_A, EMPPDSKLV_A, SCHCURENR_A, NATUSBORN_A, AFVET_A, EVRMARRIED_A, MARITAL_A, ORIENT_A, SMOKELSEV_A, PIPEEV_A, CIGAREV_A, ECIGEV_A, SMKEV_A, PAITOOTH3M_A, PAIAPG3M_A, PAIHDFC3M_A, PAILLMB3M_A, PAIULMB3M_A, PAIBACK3M_A, PAIMOTHER_A, ...]\n",
       "Index: []\n",
       "\n",
       "[0 rows x 243 columns]"
      ]
     },
     "execution_count": 13,
     "metadata": {},
     "output_type": "execute_result"
    }
   ],
   "source": [
    "# no duplicates in dataset\n",
    "df[df.duplicated() == True]"
   ]
  },
  {
   "cell_type": "code",
   "execution_count": 25,
   "metadata": {},
   "outputs": [
    {
     "data": {
      "image/png": "[encoded data removed]",
      "text/plain": [
       "<Figure size 1728x720 with 3 Axes>"
      ]
     },
     "metadata": {
      "needs_background": "light"
     },
     "output_type": "display_data"
    }
   ],
   "source": [
    "# visually checking which columns have nulls\n",
    "msno.bar(df[df.columns[210:]]);"
   ]
  },
  {
   "cell_type": "code",
   "execution_count": 29,
   "metadata": {},
   "outputs": [
    {
     "data": {
      "text/plain": [
       "PAITOOTH3M_A  PRVSCOV1_A\n",
       "1.0           NaN           5946\n",
       "              2.0           5733\n",
       "              1.0           4068\n",
       "              9.0            323\n",
       "              8.0            264\n",
       "              7.0              4\n",
       "2.0           NaN            776\n",
       "              2.0            578\n",
       "              1.0            323\n",
       "              9.0             41\n",
       "              8.0             34\n",
       "3.0           NaN            383\n",
       "              2.0            146\n",
       "              1.0            121\n",
       "              9.0             19\n",
       "              8.0              8\n",
       "4.0           NaN            209\n",
       "              2.0            132\n",
       "              1.0             77\n",
       "              8.0              8\n",
       "              9.0              4\n",
       "7.0           2.0              3\n",
       "              NaN              1\n",
       "              1.0              1\n",
       "              8.0              1\n",
       "8.0           NaN             23\n",
       "              2.0             13\n",
       "              1.0             12\n",
       "              9.0              1\n",
       "9.0           NaN              6\n",
       "              1.0              2\n",
       "              2.0              2\n",
       "Name: PRVSCOV1_A, dtype: int64"
      ]
     },
     "execution_count": 29,
     "metadata": {},
     "output_type": "execute_result"
    }
   ],
   "source": [
    "# checking if nulls are missing in the same rows, but they are not always\n",
    "df.groupby('PAITOOTH3M_A')['PRVSCOV1_A'].value_counts(dropna=False)"
   ]
  },
  {
   "cell_type": "code",
   "execution_count": 148,
   "metadata": {},
   "outputs": [
    {
     "data": {
      "image/png": "[encoded data removed]",
      "text/plain": [
       "<Figure size 360x360 with 1 Axes>"
      ]
     },
     "metadata": {
      "needs_background": "light"
     },
     "output_type": "display_data"
    }
   ],
   "source": [
    "sns.catplot(x='REGION', kind='count', palette='gist_heat', data=df); # gist_heat, ch:.25, magma\n",
    "plt.title('Count of Region');\n",
    "plt.xticks(ticks=(0,1,2,3), labels=('Northeast', 'Midwest', 'South', 'West'));"
   ]
  },
  {
   "cell_type": "code",
   "execution_count": 61,
   "metadata": {},
   "outputs": [
    {
     "data": {
      "image/png": "[encoded data removed]",
      "text/plain": [
       "<Figure size 360x360 with 1 Axes>"
      ]
     },
     "metadata": {
      "needs_background": "light"
     },
     "output_type": "display_data"
    }
   ],
   "source": [
    "sns.catplot(x='HISPALLP_A', kind='count', palette='gist_heat', data=df); # gist_heat, ch:.25, magma\n",
    "plt.title('Race Distribution');\n",
    "plt.xticks(ticks=(0,1,2,3,4,5,6), rotation=45, \n",
    "           labels=('Hispanic', 'White Only', 'Black Only', 'Asian Only', 'AIAN Only', 'AIAN + another', 'Other'));"
   ]
  },
  {
   "cell_type": "code",
   "execution_count": 62,
   "metadata": {},
   "outputs": [
    {
     "data": {
      "text/plain": [
       "2    0.684770\n",
       "1    0.129911\n",
       "3    0.108745\n",
       "4    0.051551\n",
       "7    0.010630\n",
       "6    0.007745\n",
       "5    0.006648\n",
       "Name: HISPALLP_A, dtype: float64"
      ]
     },
     "execution_count": 62,
     "metadata": {},
     "output_type": "execute_result"
    }
   ],
   "source": [
    "df['HISPALLP_A'].value_counts(normalize=True)"
   ]
  },
  {
   "cell_type": "code",
   "execution_count": 68,
   "metadata": {},
   "outputs": [
    {
     "data": {
      "image/png": "[encoded data removed]",
      "text/plain": [
       "<Figure size 360x360 with 1 Axes>"
      ]
     },
     "metadata": {
      "needs_background": "light"
     },
     "output_type": "display_data"
    }
   ],
   "source": [
    "sns.catplot(x='HISPALLP_A', y='CHDEV_A', kind='violin', data=df, split=True, palette='gist_heat');\n",
    "plt.title('Coronary Artery Disease by Race');\n",
    "plt.xticks(ticks=(0,1,2,3,4,5,6), labels=('Hispanic', 'White Only', 'Black Only', 'Asian Only', 'AIAN Only', 'AIAN + another', 'Other'), rotation=45);\n",
    "plt.ylabel('Coronary Heart Disease');\n",
    "plt.xlabel('Race');"
   ]
  },
  {
   "cell_type": "code",
   "execution_count": 7,
   "metadata": {},
   "outputs": [],
   "source": [
    "df.drop(df[df['SEX_A']==7].index, inplace=True)"
   ]
  },
  {
   "cell_type": "code",
   "execution_count": 149,
   "metadata": {},
   "outputs": [
    {
     "data": {
      "image/png": "[encoded data removed]",
      "text/plain": [
       "<Figure size 360x360 with 1 Axes>"
      ]
     },
     "metadata": {
      "needs_background": "light"
     },
     "output_type": "display_data"
    }
   ],
   "source": [
    "sns.catplot(x='SEX_A', kind='count', palette='gist_heat', data=df);\n",
    "plt.title('Count of Sex');\n",
    "plt.xticks(ticks=(0,1), labels=('Male', 'Female'));"
   ]
  },
  {
   "cell_type": "code",
   "execution_count": 8,
   "metadata": {},
   "outputs": [],
   "source": [
    "# changing values in target column to don't know(9) if not yes(1) or no(2) and changing no to 0\n",
    "df['CHDEV_A'] = df['CHDEV_A'].replace([2,7,8], [0,9,9])"
   ]
  },
  {
   "cell_type": "code",
   "execution_count": 9,
   "metadata": {},
   "outputs": [],
   "source": [
    "target_unknown = df[df['CHDEV_A'] == 9]"
   ]
  },
  {
   "cell_type": "code",
   "execution_count": 10,
   "metadata": {},
   "outputs": [],
   "source": [
    "# dropping rows that aren't yes or no in order to use SMOTE\n",
    "df.drop(target_unknown.index, inplace=True)"
   ]
  },
  {
   "cell_type": "code",
   "execution_count": 129,
   "metadata": {},
   "outputs": [
    {
     "data": {
      "text/plain": [
       "0    0.942115\n",
       "1    0.057885\n",
       "Name: CHDEV_A, dtype: float64"
      ]
     },
     "execution_count": 129,
     "metadata": {},
     "output_type": "execute_result"
    }
   ],
   "source": [
    "df['CHDEV_A'].value_counts(normalize=True)"
   ]
  },
  {
   "cell_type": "code",
   "execution_count": 172,
   "metadata": {},
   "outputs": [
    {
     "data": {
      "image/png": "[encoded data removed]",
      "text/plain": [
       "<Figure size 402.375x360 with 1 Axes>"
      ]
     },
     "metadata": {
      "needs_background": "light"
     },
     "output_type": "display_data"
    }
   ],
   "source": [
    "sns.catplot(x='BMICAT_A', y='CHDEV_A', hue='SEX_A', kind='violin', data=df, split=True, palette='gist_heat');\n",
    "plt.title('BMI vs Coronary Artery Disease');\n",
    "plt.xticks(ticks=(0,1,2,3,4), labels=('Underweight', 'Healthy Weight', 'Overweight', 'Obese', 'Unknown'), rotation=45);\n",
    "plt.ylabel('Coronary Heart Disease');\n",
    "plt.xlabel('BMI');"
   ]
  },
  {
   "cell_type": "code",
   "execution_count": 179,
   "metadata": {},
   "outputs": [
    {
     "data": {
      "text/plain": [
       "BMICAT_A\n",
       "1    0.036965\n",
       "2    0.045021\n",
       "3    0.059322\n",
       "4    0.071235\n",
       "9    0.046484\n",
       "Name: CHDEV_A, dtype: float64"
      ]
     },
     "execution_count": 179,
     "metadata": {},
     "output_type": "execute_result"
    }
   ],
   "source": [
    "df.groupby('BMICAT_A')['CHDEV_A'].mean()"
   ]
  },
  {
   "cell_type": "code",
   "execution_count": 31,
   "metadata": {},
   "outputs": [],
   "source": [
    "new_df = df[['HHX', 'URBRRL', 'REGION', 'INTV_QRT', 'SEX_A', 'EDUC_A', 'AFNOW', 'HISP_A', 'HISPALLP_A', 'RACEALLP_A', 'PCNTTC', 'PCNT18UPTC',\n",
    "    'PCNTLT18TC', 'OVER65FLG_A', 'MAXEDUC_A', 'PHSTAT_A', 'HYPEV_A', 'CHLEV_A', 'CHDEV_A', 'ANGEV_A', 'MIEV_A', 'STREV_A', 'ASEV_A', \n",
    "    'CANEV_A','NUMCAN_A', 'DEMENEV_A', 'ANXEV_A', 'DEPEV_A', 'ANXFREQ_A', 'DEPFREQ_A', 'PREDIB_A', 'DIBEV_A', 'COPDEV_A', 'BMICAT_A', \n",
    "    'DIFF_A','EQUIP_A', 'COGMEMDFF_A', 'MEDICARE_A', 'MEDICAID_A', 'PRIVATE_A', 'NOTCOV_A', 'PAYBLL12M_A', 'PAYWORRY_A', 'LASTDR_A', \n",
    "    'URGNT12MTC_A',  'EMERG12MTC_A', 'HOSPONGT_A', 'RX12M_A', 'SHTFLU12M_A', 'PAIFRQ3M_A', 'SMKCIGST_A', 'LEGMSTAT_A', 'PARSTAT_A', \n",
    "    'AFVET_A', 'CITZNSTP_A', 'EMPWRKLSWK_A']].copy()"
   ]
  },
  {
   "cell_type": "code",
   "execution_count": 34,
   "metadata": {},
   "outputs": [
    {
     "data": {
      "text/html": [
       "<div>\n",
       "<style scoped>\n",
       "    .dataframe tbody tr th:only-of-type {\n",
       "        vertical-align: middle;\n",
       "    }\n",
       "\n",
       "    .dataframe tbody tr th {\n",
       "        vertical-align: top;\n",
       "    }\n",
       "\n",
       "    .dataframe thead th {\n",
       "        text-align: right;\n",
       "    }\n",
       "</style>\n",
       "<table border=\"1\" class=\"dataframe\">\n",
       "  <thead>\n",
       "    <tr style=\"text-align: right;\">\n",
       "      <th></th>\n",
       "      <th>HHX</th>\n",
       "      <th>URBRRL</th>\n",
       "      <th>REGION</th>\n",
       "      <th>INTV_QRT</th>\n",
       "      <th>SEX_A</th>\n",
       "      <th>EDUC_A</th>\n",
       "      <th>AFNOW</th>\n",
       "      <th>HISP_A</th>\n",
       "      <th>HISPALLP_A</th>\n",
       "      <th>RACEALLP_A</th>\n",
       "      <th>...</th>\n",
       "      <th>HOSPONGT_A</th>\n",
       "      <th>RX12M_A</th>\n",
       "      <th>SHTFLU12M_A</th>\n",
       "      <th>PAIFRQ3M_A</th>\n",
       "      <th>SMKCIGST_A</th>\n",
       "      <th>LEGMSTAT_A</th>\n",
       "      <th>PARSTAT_A</th>\n",
       "      <th>AFVET_A</th>\n",
       "      <th>CITZNSTP_A</th>\n",
       "      <th>EMPWRKLSWK_A</th>\n",
       "    </tr>\n",
       "  </thead>\n",
       "  <tbody>\n",
       "    <tr>\n",
       "      <th>0</th>\n",
       "      <td>H048109</td>\n",
       "      <td>4</td>\n",
       "      <td>3</td>\n",
       "      <td>1</td>\n",
       "      <td>1</td>\n",
       "      <td>7</td>\n",
       "      <td>2.0</td>\n",
       "      <td>2</td>\n",
       "      <td>3</td>\n",
       "      <td>2</td>\n",
       "      <td>...</td>\n",
       "      <td>2</td>\n",
       "      <td>1</td>\n",
       "      <td>2</td>\n",
       "      <td>2.0</td>\n",
       "      <td>4</td>\n",
       "      <td>3</td>\n",
       "      <td>1</td>\n",
       "      <td>1</td>\n",
       "      <td>1</td>\n",
       "      <td>2</td>\n",
       "    </tr>\n",
       "    <tr>\n",
       "      <th>1</th>\n",
       "      <td>H027044</td>\n",
       "      <td>4</td>\n",
       "      <td>3</td>\n",
       "      <td>1</td>\n",
       "      <td>2</td>\n",
       "      <td>6</td>\n",
       "      <td>1.0</td>\n",
       "      <td>2</td>\n",
       "      <td>2</td>\n",
       "      <td>1</td>\n",
       "      <td>...</td>\n",
       "      <td>2</td>\n",
       "      <td>2</td>\n",
       "      <td>2</td>\n",
       "      <td>1.0</td>\n",
       "      <td>2</td>\n",
       "      <td>3</td>\n",
       "      <td>3</td>\n",
       "      <td>2</td>\n",
       "      <td>1</td>\n",
       "      <td>1</td>\n",
       "    </tr>\n",
       "    <tr>\n",
       "      <th>2</th>\n",
       "      <td>H058855</td>\n",
       "      <td>4</td>\n",
       "      <td>3</td>\n",
       "      <td>1</td>\n",
       "      <td>1</td>\n",
       "      <td>5</td>\n",
       "      <td>NaN</td>\n",
       "      <td>2</td>\n",
       "      <td>2</td>\n",
       "      <td>1</td>\n",
       "      <td>...</td>\n",
       "      <td>2</td>\n",
       "      <td>1</td>\n",
       "      <td>1</td>\n",
       "      <td>2.0</td>\n",
       "      <td>4</td>\n",
       "      <td>3</td>\n",
       "      <td>3</td>\n",
       "      <td>1</td>\n",
       "      <td>1</td>\n",
       "      <td>2</td>\n",
       "    </tr>\n",
       "    <tr>\n",
       "      <th>3</th>\n",
       "      <td>H031993</td>\n",
       "      <td>4</td>\n",
       "      <td>3</td>\n",
       "      <td>1</td>\n",
       "      <td>1</td>\n",
       "      <td>7</td>\n",
       "      <td>2.0</td>\n",
       "      <td>1</td>\n",
       "      <td>1</td>\n",
       "      <td>8</td>\n",
       "      <td>...</td>\n",
       "      <td>2</td>\n",
       "      <td>1</td>\n",
       "      <td>2</td>\n",
       "      <td>2.0</td>\n",
       "      <td>4</td>\n",
       "      <td>3</td>\n",
       "      <td>3</td>\n",
       "      <td>1</td>\n",
       "      <td>1</td>\n",
       "      <td>1</td>\n",
       "    </tr>\n",
       "    <tr>\n",
       "      <th>4</th>\n",
       "      <td>H007122</td>\n",
       "      <td>1</td>\n",
       "      <td>3</td>\n",
       "      <td>1</td>\n",
       "      <td>1</td>\n",
       "      <td>5</td>\n",
       "      <td>2.0</td>\n",
       "      <td>2</td>\n",
       "      <td>2</td>\n",
       "      <td>1</td>\n",
       "      <td>...</td>\n",
       "      <td>2</td>\n",
       "      <td>1</td>\n",
       "      <td>1</td>\n",
       "      <td>3.0</td>\n",
       "      <td>1</td>\n",
       "      <td>3</td>\n",
       "      <td>1</td>\n",
       "      <td>2</td>\n",
       "      <td>1</td>\n",
       "      <td>1</td>\n",
       "    </tr>\n",
       "    <tr>\n",
       "      <th>...</th>\n",
       "      <td>...</td>\n",
       "      <td>...</td>\n",
       "      <td>...</td>\n",
       "      <td>...</td>\n",
       "      <td>...</td>\n",
       "      <td>...</td>\n",
       "      <td>...</td>\n",
       "      <td>...</td>\n",
       "      <td>...</td>\n",
       "      <td>...</td>\n",
       "      <td>...</td>\n",
       "      <td>...</td>\n",
       "      <td>...</td>\n",
       "      <td>...</td>\n",
       "      <td>...</td>\n",
       "      <td>...</td>\n",
       "      <td>...</td>\n",
       "      <td>...</td>\n",
       "      <td>...</td>\n",
       "      <td>...</td>\n",
       "      <td>...</td>\n",
       "    </tr>\n",
       "    <tr>\n",
       "      <th>31992</th>\n",
       "      <td>H046022</td>\n",
       "      <td>4</td>\n",
       "      <td>4</td>\n",
       "      <td>4</td>\n",
       "      <td>2</td>\n",
       "      <td>7</td>\n",
       "      <td>NaN</td>\n",
       "      <td>2</td>\n",
       "      <td>2</td>\n",
       "      <td>1</td>\n",
       "      <td>...</td>\n",
       "      <td>2</td>\n",
       "      <td>1</td>\n",
       "      <td>1</td>\n",
       "      <td>2.0</td>\n",
       "      <td>3</td>\n",
       "      <td>3</td>\n",
       "      <td>3</td>\n",
       "      <td>2</td>\n",
       "      <td>1</td>\n",
       "      <td>2</td>\n",
       "    </tr>\n",
       "    <tr>\n",
       "      <th>31993</th>\n",
       "      <td>H046232</td>\n",
       "      <td>4</td>\n",
       "      <td>4</td>\n",
       "      <td>4</td>\n",
       "      <td>1</td>\n",
       "      <td>5</td>\n",
       "      <td>2.0</td>\n",
       "      <td>2</td>\n",
       "      <td>2</td>\n",
       "      <td>1</td>\n",
       "      <td>...</td>\n",
       "      <td>2</td>\n",
       "      <td>1</td>\n",
       "      <td>2</td>\n",
       "      <td>1.0</td>\n",
       "      <td>4</td>\n",
       "      <td>3</td>\n",
       "      <td>1</td>\n",
       "      <td>2</td>\n",
       "      <td>1</td>\n",
       "      <td>1</td>\n",
       "    </tr>\n",
       "    <tr>\n",
       "      <th>31994</th>\n",
       "      <td>H043765</td>\n",
       "      <td>4</td>\n",
       "      <td>4</td>\n",
       "      <td>4</td>\n",
       "      <td>1</td>\n",
       "      <td>5</td>\n",
       "      <td>NaN</td>\n",
       "      <td>2</td>\n",
       "      <td>2</td>\n",
       "      <td>1</td>\n",
       "      <td>...</td>\n",
       "      <td>2</td>\n",
       "      <td>1</td>\n",
       "      <td>2</td>\n",
       "      <td>1.0</td>\n",
       "      <td>4</td>\n",
       "      <td>2</td>\n",
       "      <td>3</td>\n",
       "      <td>2</td>\n",
       "      <td>1</td>\n",
       "      <td>1</td>\n",
       "    </tr>\n",
       "    <tr>\n",
       "      <th>31995</th>\n",
       "      <td>H017695</td>\n",
       "      <td>4</td>\n",
       "      <td>4</td>\n",
       "      <td>4</td>\n",
       "      <td>2</td>\n",
       "      <td>7</td>\n",
       "      <td>2.0</td>\n",
       "      <td>1</td>\n",
       "      <td>1</td>\n",
       "      <td>1</td>\n",
       "      <td>...</td>\n",
       "      <td>2</td>\n",
       "      <td>1</td>\n",
       "      <td>2</td>\n",
       "      <td>1.0</td>\n",
       "      <td>4</td>\n",
       "      <td>3</td>\n",
       "      <td>3</td>\n",
       "      <td>2</td>\n",
       "      <td>1</td>\n",
       "      <td>1</td>\n",
       "    </tr>\n",
       "    <tr>\n",
       "      <th>31996</th>\n",
       "      <td>H026306</td>\n",
       "      <td>4</td>\n",
       "      <td>4</td>\n",
       "      <td>4</td>\n",
       "      <td>2</td>\n",
       "      <td>5</td>\n",
       "      <td>2.0</td>\n",
       "      <td>2</td>\n",
       "      <td>2</td>\n",
       "      <td>1</td>\n",
       "      <td>...</td>\n",
       "      <td>2</td>\n",
       "      <td>1</td>\n",
       "      <td>2</td>\n",
       "      <td>1.0</td>\n",
       "      <td>4</td>\n",
       "      <td>3</td>\n",
       "      <td>3</td>\n",
       "      <td>2</td>\n",
       "      <td>1</td>\n",
       "      <td>1</td>\n",
       "    </tr>\n",
       "  </tbody>\n",
       "</table>\n",
       "<p>31891 rows × 56 columns</p>\n",
       "</div>"
      ],
      "text/plain": [
       "           HHX  URBRRL  REGION  INTV_QRT  SEX_A  EDUC_A  AFNOW  HISP_A  \\\n",
       "0      H048109       4       3         1      1       7    2.0       2   \n",
       "1      H027044       4       3         1      2       6    1.0       2   \n",
       "2      H058855       4       3         1      1       5    NaN       2   \n",
       "3      H031993       4       3         1      1       7    2.0       1   \n",
       "4      H007122       1       3         1      1       5    2.0       2   \n",
       "...        ...     ...     ...       ...    ...     ...    ...     ...   \n",
       "31992  H046022       4       4         4      2       7    NaN       2   \n",
       "31993  H046232       4       4         4      1       5    2.0       2   \n",
       "31994  H043765       4       4         4      1       5    NaN       2   \n",
       "31995  H017695       4       4         4      2       7    2.0       1   \n",
       "31996  H026306       4       4         4      2       5    2.0       2   \n",
       "\n",
       "       HISPALLP_A  RACEALLP_A  ...  HOSPONGT_A  RX12M_A  SHTFLU12M_A  \\\n",
       "0               3           2  ...           2        1            2   \n",
       "1               2           1  ...           2        2            2   \n",
       "2               2           1  ...           2        1            1   \n",
       "3               1           8  ...           2        1            2   \n",
       "4               2           1  ...           2        1            1   \n",
       "...           ...         ...  ...         ...      ...          ...   \n",
       "31992           2           1  ...           2        1            1   \n",
       "31993           2           1  ...           2        1            2   \n",
       "31994           2           1  ...           2        1            2   \n",
       "31995           1           1  ...           2        1            2   \n",
       "31996           2           1  ...           2        1            2   \n",
       "\n",
       "       PAIFRQ3M_A  SMKCIGST_A  LEGMSTAT_A  PARSTAT_A  AFVET_A  CITZNSTP_A  \\\n",
       "0             2.0           4           3          1        1           1   \n",
       "1             1.0           2           3          3        2           1   \n",
       "2             2.0           4           3          3        1           1   \n",
       "3             2.0           4           3          3        1           1   \n",
       "4             3.0           1           3          1        2           1   \n",
       "...           ...         ...         ...        ...      ...         ...   \n",
       "31992         2.0           3           3          3        2           1   \n",
       "31993         1.0           4           3          1        2           1   \n",
       "31994         1.0           4           2          3        2           1   \n",
       "31995         1.0           4           3          3        2           1   \n",
       "31996         1.0           4           3          3        2           1   \n",
       "\n",
       "       EMPWRKLSWK_A  \n",
       "0                 2  \n",
       "1                 1  \n",
       "2                 2  \n",
       "3                 1  \n",
       "4                 1  \n",
       "...             ...  \n",
       "31992             2  \n",
       "31993             1  \n",
       "31994             1  \n",
       "31995             1  \n",
       "31996             1  \n",
       "\n",
       "[31891 rows x 56 columns]"
      ]
     },
     "execution_count": 34,
     "metadata": {},
     "output_type": "execute_result"
    }
   ],
   "source": [
    "new_df"
   ]
  },
  {
   "cell_type": "code",
   "execution_count": 23,
   "metadata": {},
   "outputs": [
    {
     "data": {
      "text/plain": [
       "2.0    23991\n",
       "NaN     7654\n",
       "1.0      243\n",
       "7.0        2\n",
       "9.0        1\n",
       "Name: AFNOW, dtype: int64"
      ]
     },
     "execution_count": 23,
     "metadata": {},
     "output_type": "execute_result"
    }
   ],
   "source": [
    "new_df['AFNOW'].value_counts(dropna=False)"
   ]
  },
  {
   "cell_type": "code",
   "execution_count": 35,
   "metadata": {},
   "outputs": [],
   "source": [
    "# filling nulls\n",
    "new_df['AFNOW'].fillna(8, inplace=True) # 8=not ascertained\n",
    "new_df['MAXEDUC_A'].fillna(99, inplace=True) # 99=don't know\n",
    "new_df['PAIFRQ3M_A'].fillna(9, inplace=True) # 9=don't know"
   ]
  },
  {
   "cell_type": "code",
   "execution_count": 41,
   "metadata": {},
   "outputs": [],
   "source": [
    "# changing datatypes for all columns except the target to objects so they can be dummified since they are categorical values\n",
    "new_df = new_df.astype(object)\n",
    "new_df['CHDEV_A'] = new_df['CHDEV_A'].astype(int)"
   ]
  },
  {
   "cell_type": "code",
   "execution_count": 38,
   "metadata": {},
   "outputs": [
    {
     "data": {
      "text/plain": [
       "0    0.942115\n",
       "1    0.057885\n",
       "Name: CHDEV_A, dtype: float64"
      ]
     },
     "execution_count": 38,
     "metadata": {},
     "output_type": "execute_result"
    }
   ],
   "source": [
    "new_df['CHDEV_A'].value_counts(normalize=True)"
   ]
  },
  {
   "cell_type": "code",
   "execution_count": 44,
   "metadata": {},
   "outputs": [],
   "source": [
    "new_df.to_csv('./adult19_clean.csv', index=False)"
   ]
  },
  {
   "cell_type": "code",
   "execution_count": 45,
   "metadata": {},
   "outputs": [
    {
     "name": "stdout",
     "output_type": "stream",
     "text": [
      "<class 'pandas.core.frame.DataFrame'>\n",
      "Int64Index: 31891 entries, 0 to 31996\n",
      "Data columns (total 56 columns):\n",
      " #   Column        Non-Null Count  Dtype \n",
      "---  ------        --------------  ----- \n",
      " 0   HHX           31891 non-null  object\n",
      " 1   URBRRL        31891 non-null  object\n",
      " 2   REGION        31891 non-null  object\n",
      " 3   INTV_QRT      31891 non-null  object\n",
      " 4   SEX_A         31891 non-null  object\n",
      " 5   EDUC_A        31891 non-null  object\n",
      " 6   AFNOW         31891 non-null  object\n",
      " 7   HISP_A        31891 non-null  object\n",
      " 8   HISPALLP_A    31891 non-null  object\n",
      " 9   RACEALLP_A    31891 non-null  object\n",
      " 10  PCNTTC        31891 non-null  object\n",
      " 11  PCNT18UPTC    31891 non-null  object\n",
      " 12  PCNTLT18TC    31891 non-null  object\n",
      " 13  OVER65FLG_A   31891 non-null  object\n",
      " 14  MAXEDUC_A     31891 non-null  object\n",
      " 15  PHSTAT_A      31891 non-null  object\n",
      " 16  HYPEV_A       31891 non-null  object\n",
      " 17  CHLEV_A       31891 non-null  object\n",
      " 18  CHDEV_A       31891 non-null  int64 \n",
      " 19  ANGEV_A       31891 non-null  object\n",
      " 20  MIEV_A        31891 non-null  object\n",
      " 21  STREV_A       31891 non-null  object\n",
      " 22  ASEV_A        31891 non-null  object\n",
      " 23  CANEV_A       31891 non-null  object\n",
      " 24  NUMCAN_A      31891 non-null  object\n",
      " 25  DEMENEV_A     31891 non-null  object\n",
      " 26  ANXEV_A       31891 non-null  object\n",
      " 27  DEPEV_A       31891 non-null  object\n",
      " 28  ANXFREQ_A     31891 non-null  object\n",
      " 29  DEPFREQ_A     31891 non-null  object\n",
      " 30  PREDIB_A      31891 non-null  object\n",
      " 31  DIBEV_A       31891 non-null  object\n",
      " 32  COPDEV_A      31891 non-null  object\n",
      " 33  BMICAT_A      31891 non-null  object\n",
      " 34  DIFF_A        31891 non-null  object\n",
      " 35  EQUIP_A       31891 non-null  object\n",
      " 36  COGMEMDFF_A   31891 non-null  object\n",
      " 37  MEDICARE_A    31891 non-null  object\n",
      " 38  MEDICAID_A    31891 non-null  object\n",
      " 39  PRIVATE_A     31891 non-null  object\n",
      " 40  NOTCOV_A      31891 non-null  object\n",
      " 41  PAYBLL12M_A   31891 non-null  object\n",
      " 42  PAYWORRY_A    31891 non-null  object\n",
      " 43  LASTDR_A      31891 non-null  object\n",
      " 44  URGNT12MTC_A  31891 non-null  object\n",
      " 45  EMERG12MTC_A  31891 non-null  object\n",
      " 46  HOSPONGT_A    31891 non-null  object\n",
      " 47  RX12M_A       31891 non-null  object\n",
      " 48  SHTFLU12M_A   31891 non-null  object\n",
      " 49  PAIFRQ3M_A    31891 non-null  object\n",
      " 50  SMKCIGST_A    31891 non-null  object\n",
      " 51  LEGMSTAT_A    31891 non-null  object\n",
      " 52  PARSTAT_A     31891 non-null  object\n",
      " 53  AFVET_A       31891 non-null  object\n",
      " 54  CITZNSTP_A    31891 non-null  object\n",
      " 55  EMPWRKLSWK_A  31891 non-null  object\n",
      "dtypes: int64(1), object(55)\n",
      "memory usage: 13.9+ MB\n"
     ]
    }
   ],
   "source": [
    "new_df.info()"
   ]
  },
  {
   "cell_type": "markdown",
   "metadata": {},
   "source": [
    "### Modeling"
   ]
  },
  {
   "cell_type": "code",
   "execution_count": 15,
   "metadata": {},
   "outputs": [],
   "source": [
    "# setting X and y variables\n",
    "X = df.drop(columns=['CHDEV_A', 'HHX'])\n",
    "y = df['CHDEV_A']"
   ]
  },
  {
   "cell_type": "code",
   "execution_count": 16,
   "metadata": {},
   "outputs": [
    {
     "data": {
      "text/plain": [
       "(31894, 241)"
      ]
     },
     "execution_count": 16,
     "metadata": {},
     "output_type": "execute_result"
    }
   ],
   "source": [
    "# shape of X\n",
    "X.shape"
   ]
  },
  {
   "cell_type": "code",
   "execution_count": 50,
   "metadata": {},
   "outputs": [],
   "source": [
    "# dummifying X variables\n",
    "X_dum = pd.get_dummies(X, drop_first=True)"
   ]
  },
  {
   "cell_type": "code",
   "execution_count": 18,
   "metadata": {},
   "outputs": [
    {
     "data": {
      "text/plain": [
       "(31894, 54903)"
      ]
     },
     "execution_count": 18,
     "metadata": {},
     "output_type": "execute_result"
    }
   ],
   "source": [
    "# shape of X after dummies\n",
    "X_dum.shape"
   ]
  },
  {
   "cell_type": "code",
   "execution_count": 20,
   "metadata": {},
   "outputs": [
    {
     "data": {
      "text/plain": [
       "0    30048\n",
       "1     1846\n",
       "Name: CHDEV_A, dtype: int64"
      ]
     },
     "execution_count": 20,
     "metadata": {},
     "output_type": "execute_result"
    }
   ],
   "source": [
    "# imbalanced classes for target variable\n",
    "y.value_counts(normalize=False)"
   ]
  },
  {
   "cell_type": "code",
   "execution_count": 49,
   "metadata": {},
   "outputs": [],
   "source": [
    "# splitting data into train and test sets for X and y variables\n",
    "X_train, X_test, y_train, y_test = train_test_split(X_dum, y, stratify=y, random_state=19)"
   ]
  },
  {
   "cell_type": "code",
   "execution_count": 1,
   "metadata": {},
   "outputs": [],
   "source": [
    "sm = SMOTEN(random_state=19)\n",
    "X_train_res, y_train_res = sm.fit_resample(X_train, y_train.ravel())"
   ]
  },
  {
   "cell_type": "code",
   "execution_count": null,
   "metadata": {},
   "outputs": [],
   "source": [
    "X_train_res.shape, y_train_res.shape"
   ]
  },
  {
   "cell_type": "code",
   "execution_count": null,
   "metadata": {},
   "outputs": [],
   "source": [
    "y_train_res['CHDEV_A'].value_counts(normalize=True)"
   ]
  },
  {
   "cell_type": "code",
   "execution_count": null,
   "metadata": {},
   "outputs": [],
   "source": [
    "y_test['CHDEV_A'].value_counts(normalize=True)"
   ]
  },
  {
   "cell_type": "code",
   "execution_count": null,
   "metadata": {},
   "outputs": [],
   "source": []
  },
  {
   "cell_type": "code",
   "execution_count": 289,
   "metadata": {},
   "outputs": [
    {
     "data": {
      "text/plain": [
       "LogisticRegression(max_iter=10000)"
      ]
     },
     "execution_count": 289,
     "metadata": {},
     "output_type": "execute_result"
    }
   ],
   "source": [
    "lrbase = LogisticRegression(max_iter=10_000)\n",
    "lrbase.fit(X_train_res, y_train_res.ravel())"
   ]
  },
  {
   "cell_type": "code",
   "execution_count": 290,
   "metadata": {},
   "outputs": [],
   "source": [
    "lrbase_preds = lrbase.predict(X_test)"
   ]
  },
  {
   "cell_type": "code",
   "execution_count": 291,
   "metadata": {},
   "outputs": [
    {
     "data": {
      "image/png": "[encoded data removed]",
      "text/plain": [
       "<Figure size 432x288 with 2 Axes>"
      ]
     },
     "metadata": {
      "needs_background": "light"
     },
     "output_type": "display_data"
    }
   ],
   "source": [
    "lrbase_cm = confusion_matrix(y_test, lrbase_preds) # kitchen sink model w/dummies and SMOTE\n",
    "ConfusionMatrixDisplay(lrbase_cm, display_labels=['No', 'Yes']).plot();"
   ]
  },
  {
   "cell_type": "code",
   "execution_count": 292,
   "metadata": {},
   "outputs": [
    {
     "name": "stdout",
     "output_type": "stream",
     "text": [
      "              precision    recall  f1-score   support\n",
      "\n",
      "           0       0.99      0.83      0.90      7512\n",
      "           1       0.22      0.80      0.35       462\n",
      "\n",
      "    accuracy                           0.83      7974\n",
      "   macro avg       0.61      0.82      0.63      7974\n",
      "weighted avg       0.94      0.83      0.87      7974\n",
      "\n"
     ]
    }
   ],
   "source": [
    "print(classification_report(y_test, lrbase_preds))"
   ]
  },
  {
   "cell_type": "code",
   "execution_count": 293,
   "metadata": {},
   "outputs": [
    {
     "data": {
      "text/html": [
       "<div>\n",
       "<style scoped>\n",
       "    .dataframe tbody tr th:only-of-type {\n",
       "        vertical-align: middle;\n",
       "    }\n",
       "\n",
       "    .dataframe tbody tr th {\n",
       "        vertical-align: top;\n",
       "    }\n",
       "\n",
       "    .dataframe thead th {\n",
       "        text-align: right;\n",
       "    }\n",
       "</style>\n",
       "<table border=\"1\" class=\"dataframe\">\n",
       "  <thead>\n",
       "    <tr style=\"text-align: right;\">\n",
       "      <th></th>\n",
       "      <th>coefs</th>\n",
       "      <th>features</th>\n",
       "      <th>feature_names</th>\n",
       "    </tr>\n",
       "  </thead>\n",
       "  <tbody>\n",
       "    <tr>\n",
       "      <th>3</th>\n",
       "      <td>1.024096</td>\n",
       "      <td>5840</td>\n",
       "      <td>OVER65FLG_A_1</td>\n",
       "    </tr>\n",
       "    <tr>\n",
       "      <th>1</th>\n",
       "      <td>0.629671</td>\n",
       "      <td>4187</td>\n",
       "      <td>EMPWRKLSWK_A_2</td>\n",
       "    </tr>\n",
       "    <tr>\n",
       "      <th>0</th>\n",
       "      <td>0.327068</td>\n",
       "      <td>4066</td>\n",
       "      <td>AFNOW_2.0</td>\n",
       "    </tr>\n",
       "    <tr>\n",
       "      <th>5</th>\n",
       "      <td>0.284837</td>\n",
       "      <td>6550</td>\n",
       "      <td>HIKIND02_A_2</td>\n",
       "    </tr>\n",
       "    <tr>\n",
       "      <th>4</th>\n",
       "      <td>-0.206624</td>\n",
       "      <td>5987</td>\n",
       "      <td>INCSSRR_A_2.0</td>\n",
       "    </tr>\n",
       "    <tr>\n",
       "      <th>2</th>\n",
       "      <td>-0.424801</td>\n",
       "      <td>5799</td>\n",
       "      <td>MEDICARE_A_3</td>\n",
       "    </tr>\n",
       "    <tr>\n",
       "      <th>8</th>\n",
       "      <td>-0.758792</td>\n",
       "      <td>6673</td>\n",
       "      <td>CHLEV_A_2</td>\n",
       "    </tr>\n",
       "    <tr>\n",
       "      <th>9</th>\n",
       "      <td>-0.992718</td>\n",
       "      <td>6676</td>\n",
       "      <td>HYPEV_A_2</td>\n",
       "    </tr>\n",
       "    <tr>\n",
       "      <th>7</th>\n",
       "      <td>-2.660184</td>\n",
       "      <td>6671</td>\n",
       "      <td>ANGEV_A_2</td>\n",
       "    </tr>\n",
       "    <tr>\n",
       "      <th>6</th>\n",
       "      <td>-3.143887</td>\n",
       "      <td>6669</td>\n",
       "      <td>MIEV_A_2</td>\n",
       "    </tr>\n",
       "  </tbody>\n",
       "</table>\n",
       "</div>"
      ],
      "text/plain": [
       "      coefs  features   feature_names\n",
       "3  1.024096      5840   OVER65FLG_A_1\n",
       "1  0.629671      4187  EMPWRKLSWK_A_2\n",
       "0  0.327068      4066       AFNOW_2.0\n",
       "5  0.284837      6550    HIKIND02_A_2\n",
       "4 -0.206624      5987   INCSSRR_A_2.0\n",
       "2 -0.424801      5799    MEDICARE_A_3\n",
       "8 -0.758792      6673       CHLEV_A_2\n",
       "9 -0.992718      6676       HYPEV_A_2\n",
       "7 -2.660184      6671       ANGEV_A_2\n",
       "6 -3.143887      6669        MIEV_A_2"
      ]
     },
     "execution_count": 293,
     "metadata": {},
     "output_type": "execute_result"
    }
   ],
   "source": [
    "coefbase_df = pd.DataFrame({'coefs': lrbase.coef_[0], 'features': X_dum.columns[i]})\n",
    "# coefbase_df['feature_names'] = [X_dum.columns[i] for i in coefbase_df['features']]\n",
    "coefbase_df.nlargest(10)"
   ]
  },
  {
   "cell_type": "code",
   "execution_count": null,
   "metadata": {},
   "outputs": [],
   "source": []
  },
  {
   "cell_type": "code",
   "execution_count": null,
   "metadata": {},
   "outputs": [],
   "source": []
  },
  {
   "cell_type": "code",
   "execution_count": 226,
   "metadata": {},
   "outputs": [],
   "source": [
    "kb = SelectKBest(k=10)\n",
    "X_kb = kb.fit_transform(X_dum, y)"
   ]
  },
  {
   "cell_type": "code",
   "execution_count": 227,
   "metadata": {},
   "outputs": [
    {
     "data": {
      "text/plain": [
       "(31894, 10)"
      ]
     },
     "execution_count": 227,
     "metadata": {},
     "output_type": "execute_result"
    }
   ],
   "source": [
    "X_kb.shape"
   ]
  },
  {
   "cell_type": "code",
   "execution_count": 228,
   "metadata": {},
   "outputs": [],
   "source": [
    "X_train, X_test, y_train, y_test = train_test_split(X_kb, y, stratify=y, random_state=19)"
   ]
  },
  {
   "cell_type": "code",
   "execution_count": 229,
   "metadata": {},
   "outputs": [],
   "source": [
    "nm = NearMiss()\n",
    "X_train_miss, y_train_miss = nm.fit_resample(X_train, y_train.ravel())"
   ]
  },
  {
   "cell_type": "code",
   "execution_count": 230,
   "metadata": {},
   "outputs": [
    {
     "data": {
      "text/plain": [
       "((2768, 10), (2768,))"
      ]
     },
     "execution_count": 230,
     "metadata": {},
     "output_type": "execute_result"
    }
   ],
   "source": [
    "X_train_miss.shape, y_train_miss.shape"
   ]
  },
  {
   "cell_type": "code",
   "execution_count": null,
   "metadata": {},
   "outputs": [],
   "source": []
  },
  {
   "cell_type": "code",
   "execution_count": 131,
   "metadata": {},
   "outputs": [
    {
     "data": {
      "text/plain": [
       "LogisticRegression(max_iter=10000)"
      ]
     },
     "execution_count": 131,
     "metadata": {},
     "output_type": "execute_result"
    }
   ],
   "source": [
    "lr = LogisticRegression(max_iter=10_000)\n",
    "lr.fit(X_train_miss, y_train_miss.ravel())"
   ]
  },
  {
   "cell_type": "code",
   "execution_count": 132,
   "metadata": {},
   "outputs": [],
   "source": [
    "lr_preds = lr.predict(X_test)"
   ]
  },
  {
   "cell_type": "code",
   "execution_count": 150,
   "metadata": {},
   "outputs": [
    {
     "data": {
      "image/png": "[encoded data removed]",
      "text/plain": [
       "<Figure size 432x288 with 2 Axes>"
      ]
     },
     "metadata": {
      "needs_background": "light"
     },
     "output_type": "display_data"
    }
   ],
   "source": [
    "lr_cm = confusion_matrix(y_test, lr_preds) # kbest = 10, near miss, lr C=1.0\n",
    "ConfusionMatrixDisplay(lr_cm, display_labels=['No', 'Yes']).plot();"
   ]
  },
  {
   "cell_type": "code",
   "execution_count": 134,
   "metadata": {},
   "outputs": [
    {
     "name": "stdout",
     "output_type": "stream",
     "text": [
      "              precision    recall  f1-score   support\n",
      "\n",
      "           0       0.99      0.83      0.90      7512\n",
      "           1       0.22      0.80      0.35       462\n",
      "\n",
      "    accuracy                           0.83      7974\n",
      "   macro avg       0.61      0.82      0.63      7974\n",
      "weighted avg       0.94      0.83      0.87      7974\n",
      "\n"
     ]
    }
   ],
   "source": [
    "print(classification_report(y_test, lr_preds))"
   ]
  },
  {
   "cell_type": "markdown",
   "metadata": {},
   "source": [
    "The SMOTEN model is not predicting well for people who have been told they have coronary artery disease. It's misclassifying most of them so, we need to go back and change some things. "
   ]
  },
  {
   "cell_type": "code",
   "execution_count": 72,
   "metadata": {},
   "outputs": [
    {
     "data": {
      "text/plain": [
       "array([ 0.16244913, -0.52497223,  0.47884663,  1.13467059, -1.10728718,\n",
       "       -0.29138259,  3.13500938,  3.16624461,  0.98412844,  0.71186651])"
      ]
     },
     "execution_count": 72,
     "metadata": {},
     "output_type": "execute_result"
    }
   ],
   "source": [
    "lr.coef_[0]"
   ]
  },
  {
   "cell_type": "code",
   "execution_count": 74,
   "metadata": {},
   "outputs": [
    {
     "data": {
      "text/plain": [
       "array([4068, 4118, 4548, 5804, 5846, 6557, 6676, 6678, 6680, 6683])"
      ]
     },
     "execution_count": 74,
     "metadata": {},
     "output_type": "execute_result"
    }
   ],
   "source": [
    "kb.get_support(indices=True)"
   ]
  },
  {
   "cell_type": "code",
   "execution_count": 135,
   "metadata": {},
   "outputs": [
    {
     "data": {
      "text/html": [
       "<div>\n",
       "<style scoped>\n",
       "    .dataframe tbody tr th:only-of-type {\n",
       "        vertical-align: middle;\n",
       "    }\n",
       "\n",
       "    .dataframe tbody tr th {\n",
       "        vertical-align: top;\n",
       "    }\n",
       "\n",
       "    .dataframe thead th {\n",
       "        text-align: right;\n",
       "    }\n",
       "</style>\n",
       "<table border=\"1\" class=\"dataframe\">\n",
       "  <thead>\n",
       "    <tr style=\"text-align: right;\">\n",
       "      <th></th>\n",
       "      <th>coefs</th>\n",
       "      <th>features</th>\n",
       "    </tr>\n",
       "  </thead>\n",
       "  <tbody>\n",
       "    <tr>\n",
       "      <th>0</th>\n",
       "      <td>0.327068</td>\n",
       "      <td>4066</td>\n",
       "    </tr>\n",
       "    <tr>\n",
       "      <th>1</th>\n",
       "      <td>0.629671</td>\n",
       "      <td>4187</td>\n",
       "    </tr>\n",
       "    <tr>\n",
       "      <th>2</th>\n",
       "      <td>-0.424801</td>\n",
       "      <td>5799</td>\n",
       "    </tr>\n",
       "    <tr>\n",
       "      <th>3</th>\n",
       "      <td>1.024096</td>\n",
       "      <td>5840</td>\n",
       "    </tr>\n",
       "    <tr>\n",
       "      <th>4</th>\n",
       "      <td>-0.206624</td>\n",
       "      <td>5987</td>\n",
       "    </tr>\n",
       "    <tr>\n",
       "      <th>5</th>\n",
       "      <td>0.284837</td>\n",
       "      <td>6550</td>\n",
       "    </tr>\n",
       "    <tr>\n",
       "      <th>6</th>\n",
       "      <td>-3.143887</td>\n",
       "      <td>6669</td>\n",
       "    </tr>\n",
       "    <tr>\n",
       "      <th>7</th>\n",
       "      <td>-2.660184</td>\n",
       "      <td>6671</td>\n",
       "    </tr>\n",
       "    <tr>\n",
       "      <th>8</th>\n",
       "      <td>-0.758792</td>\n",
       "      <td>6673</td>\n",
       "    </tr>\n",
       "    <tr>\n",
       "      <th>9</th>\n",
       "      <td>-0.992718</td>\n",
       "      <td>6676</td>\n",
       "    </tr>\n",
       "  </tbody>\n",
       "</table>\n",
       "</div>"
      ],
      "text/plain": [
       "      coefs  features\n",
       "0  0.327068      4066\n",
       "1  0.629671      4187\n",
       "2 -0.424801      5799\n",
       "3  1.024096      5840\n",
       "4 -0.206624      5987\n",
       "5  0.284837      6550\n",
       "6 -3.143887      6669\n",
       "7 -2.660184      6671\n",
       "8 -0.758792      6673\n",
       "9 -0.992718      6676"
      ]
     },
     "execution_count": 135,
     "metadata": {},
     "output_type": "execute_result"
    }
   ],
   "source": [
    "coef_df = pd.DataFrame({'coefs': lr.coef_[0], 'features': kb.get_support(indices=True)})\n",
    "coef_df"
   ]
  },
  {
   "cell_type": "code",
   "execution_count": 81,
   "metadata": {},
   "outputs": [
    {
     "data": {
      "text/plain": [
       "'AFNOW_9.0'"
      ]
     },
     "execution_count": 81,
     "metadata": {},
     "output_type": "execute_result"
    }
   ],
   "source": [
    "X_dum.columns[4068]"
   ]
  },
  {
   "cell_type": "code",
   "execution_count": 136,
   "metadata": {},
   "outputs": [],
   "source": [
    "coef_df['feature_names'] = [X_dum.columns[i] for i in coef_df['features']]"
   ]
  },
  {
   "cell_type": "code",
   "execution_count": 139,
   "metadata": {},
   "outputs": [
    {
     "data": {
      "text/html": [
       "<div>\n",
       "<style scoped>\n",
       "    .dataframe tbody tr th:only-of-type {\n",
       "        vertical-align: middle;\n",
       "    }\n",
       "\n",
       "    .dataframe tbody tr th {\n",
       "        vertical-align: top;\n",
       "    }\n",
       "\n",
       "    .dataframe thead th {\n",
       "        text-align: right;\n",
       "    }\n",
       "</style>\n",
       "<table border=\"1\" class=\"dataframe\">\n",
       "  <thead>\n",
       "    <tr style=\"text-align: right;\">\n",
       "      <th></th>\n",
       "      <th>coefs</th>\n",
       "      <th>features</th>\n",
       "      <th>feature_names</th>\n",
       "    </tr>\n",
       "  </thead>\n",
       "  <tbody>\n",
       "    <tr>\n",
       "      <th>3</th>\n",
       "      <td>1.024096</td>\n",
       "      <td>5840</td>\n",
       "      <td>OVER65FLG_A_1</td>\n",
       "    </tr>\n",
       "    <tr>\n",
       "      <th>1</th>\n",
       "      <td>0.629671</td>\n",
       "      <td>4187</td>\n",
       "      <td>EMPWRKLSWK_A_2</td>\n",
       "    </tr>\n",
       "    <tr>\n",
       "      <th>0</th>\n",
       "      <td>0.327068</td>\n",
       "      <td>4066</td>\n",
       "      <td>AFNOW_2.0</td>\n",
       "    </tr>\n",
       "    <tr>\n",
       "      <th>5</th>\n",
       "      <td>0.284837</td>\n",
       "      <td>6550</td>\n",
       "      <td>HIKIND02_A_2</td>\n",
       "    </tr>\n",
       "    <tr>\n",
       "      <th>4</th>\n",
       "      <td>-0.206624</td>\n",
       "      <td>5987</td>\n",
       "      <td>INCSSRR_A_2.0</td>\n",
       "    </tr>\n",
       "    <tr>\n",
       "      <th>2</th>\n",
       "      <td>-0.424801</td>\n",
       "      <td>5799</td>\n",
       "      <td>MEDICARE_A_3</td>\n",
       "    </tr>\n",
       "    <tr>\n",
       "      <th>8</th>\n",
       "      <td>-0.758792</td>\n",
       "      <td>6673</td>\n",
       "      <td>CHLEV_A_2</td>\n",
       "    </tr>\n",
       "    <tr>\n",
       "      <th>9</th>\n",
       "      <td>-0.992718</td>\n",
       "      <td>6676</td>\n",
       "      <td>HYPEV_A_2</td>\n",
       "    </tr>\n",
       "    <tr>\n",
       "      <th>7</th>\n",
       "      <td>-2.660184</td>\n",
       "      <td>6671</td>\n",
       "      <td>ANGEV_A_2</td>\n",
       "    </tr>\n",
       "    <tr>\n",
       "      <th>6</th>\n",
       "      <td>-3.143887</td>\n",
       "      <td>6669</td>\n",
       "      <td>MIEV_A_2</td>\n",
       "    </tr>\n",
       "  </tbody>\n",
       "</table>\n",
       "</div>"
      ],
      "text/plain": [
       "      coefs  features   feature_names\n",
       "3  1.024096      5840   OVER65FLG_A_1\n",
       "1  0.629671      4187  EMPWRKLSWK_A_2\n",
       "0  0.327068      4066       AFNOW_2.0\n",
       "5  0.284837      6550    HIKIND02_A_2\n",
       "4 -0.206624      5987   INCSSRR_A_2.0\n",
       "2 -0.424801      5799    MEDICARE_A_3\n",
       "8 -0.758792      6673       CHLEV_A_2\n",
       "9 -0.992718      6676       HYPEV_A_2\n",
       "7 -2.660184      6671       ANGEV_A_2\n",
       "6 -3.143887      6669        MIEV_A_2"
      ]
     },
     "execution_count": 139,
     "metadata": {},
     "output_type": "execute_result"
    }
   ],
   "source": [
    "coef_df.sort_values('coefs', ascending=False)"
   ]
  },
  {
   "cell_type": "code",
   "execution_count": null,
   "metadata": {},
   "outputs": [],
   "source": []
  },
  {
   "cell_type": "code",
   "execution_count": null,
   "metadata": {},
   "outputs": [],
   "source": []
  },
  {
   "cell_type": "code",
   "execution_count": 158,
   "metadata": {},
   "outputs": [
    {
     "data": {
      "text/plain": [
       "LogisticRegression(max_iter=10000)"
      ]
     },
     "execution_count": 158,
     "metadata": {},
     "output_type": "execute_result"
    }
   ],
   "source": [
    "# modeling with unbalanced classes\n",
    "lr_base = LogisticRegression(max_iter=10_000)\n",
    "lr_base.fit(X_train, y_train)"
   ]
  },
  {
   "cell_type": "code",
   "execution_count": 159,
   "metadata": {},
   "outputs": [],
   "source": [
    "lr_base_preds = lr_base.predict(X_test)"
   ]
  },
  {
   "cell_type": "code",
   "execution_count": 160,
   "metadata": {},
   "outputs": [
    {
     "data": {
      "image/png": "[encoded data removed]",
      "text/plain": [
       "<Figure size 432x288 with 2 Axes>"
      ]
     },
     "metadata": {
      "needs_background": "light"
     },
     "output_type": "display_data"
    }
   ],
   "source": [
    "lrb_cm = confusion_matrix(y_test, lr_base_preds)\n",
    "ConfusionMatrixDisplay(lrb_cm, display_labels=['Yes', 'No']).plot();"
   ]
  },
  {
   "cell_type": "code",
   "execution_count": 161,
   "metadata": {},
   "outputs": [
    {
     "name": "stdout",
     "output_type": "stream",
     "text": [
      "              precision    recall  f1-score   support\n",
      "\n",
      "           1       0.72      0.37      0.49       462\n",
      "           2       0.96      0.99      0.98      7512\n",
      "\n",
      "    accuracy                           0.96      7974\n",
      "   macro avg       0.84      0.68      0.73      7974\n",
      "weighted avg       0.95      0.96      0.95      7974\n",
      "\n"
     ]
    }
   ],
   "source": [
    "print(classification_report(y_test, lr_base_preds))"
   ]
  },
  {
   "cell_type": "code",
   "execution_count": null,
   "metadata": {},
   "outputs": [],
   "source": []
  },
  {
   "cell_type": "code",
   "execution_count": 52,
   "metadata": {},
   "outputs": [],
   "source": [
    "# constant_columns = [column for column in df.drop(columns=['CHDEV_A', 'HHX']).columns\n",
    "                    if column not in df.drop(columns=['CHDEV_A', 'HHX']).columns[var_th.get_support()]]"
   ]
  },
  {
   "cell_type": "code",
   "execution_count": 56,
   "metadata": {
    "collapsed": true,
    "jupyter": {
     "outputs_hidden": true
    }
   },
   "outputs": [
    {
     "data": {
      "text/plain": [
       "['INCTCFLG_A',\n",
       " 'DISAB3_A',\n",
       " 'AFNOW',\n",
       " 'SASPPRACE_A',\n",
       " 'SASPPHISP_A',\n",
       " 'HHRESPSA_FLG',\n",
       " 'EXCHANGE_A',\n",
       " 'OGFLG_A',\n",
       " 'OPFLG_A',\n",
       " 'CHFLG_A',\n",
       " 'MAFLG_A',\n",
       " 'PRFLG_A',\n",
       " 'OTHGOV_A',\n",
       " 'OTHPUB_A',\n",
       " 'IHS_A',\n",
       " 'CHIP_A',\n",
       " 'PRPLCOV1_C_A',\n",
       " 'PRPLCOV2_C_A',\n",
       " 'MLTFAMFLG_A',\n",
       " 'HISP_A',\n",
       " 'SRVY_YR',\n",
       " 'SPOUSLIV_A',\n",
       " 'PIPECUR_A',\n",
       " 'CIGARCUR_A',\n",
       " 'PAIYOGA_A',\n",
       " 'PAIGROUP_A',\n",
       " 'PAIPROGRAM_A',\n",
       " 'PAITALKTPY_A',\n",
       " 'PAICHIRO_A',\n",
       " 'MHRX_A',\n",
       " 'WRKHLTHFC_A',\n",
       " 'RXDL12M_A',\n",
       " 'RXLS12M_A',\n",
       " 'RXSK12M_A',\n",
       " 'HINOTYR_A',\n",
       " 'HISTOPAGE_A',\n",
       " 'CHHDHP_A',\n",
       " 'CHDEDUC_A',\n",
       " 'HIKIND09_A',\n",
       " 'HIKIND08_A',\n",
       " 'HIKIND07_A',\n",
       " 'HIKIND05_A',\n",
       " 'HICOV_A',\n",
       " 'UPPSLFCR_A',\n",
       " 'COMDIFF_A',\n",
       " 'CANEWLKR_A',\n",
       " 'EQUIP_A',\n",
       " 'HEARAID_A',\n",
       " 'PREGNOW_A',\n",
       " 'DEMENEV_A',\n",
       " 'COPDEV_A',\n",
       " 'DIBEV_A',\n",
       " 'GESDIB_A',\n",
       " 'CANEV_A',\n",
       " 'ASER12M_A',\n",
       " 'ASPONOWN_A',\n",
       " 'STREV_A',\n",
       " 'MIEV_A',\n",
       " 'ANGEV_A',\n",
       " 'PROXY_A',\n",
       " 'HHSTAT_A',\n",
       " 'RECTYPE']"
      ]
     },
     "execution_count": 56,
     "metadata": {},
     "output_type": "execute_result"
    }
   ],
   "source": [
    "# constant_columns"
   ]
  },
  {
   "cell_type": "code",
   "execution_count": null,
   "metadata": {},
   "outputs": [],
   "source": []
  },
  {
   "cell_type": "code",
   "execution_count": null,
   "metadata": {},
   "outputs": [],
   "source": []
  },
  {
   "cell_type": "code",
   "execution_count": null,
   "metadata": {},
   "outputs": [],
   "source": []
  },
  {
   "cell_type": "code",
   "execution_count": null,
   "metadata": {},
   "outputs": [],
   "source": []
  },
  {
   "cell_type": "code",
   "execution_count": null,
   "metadata": {},
   "outputs": [],
   "source": []
  }
 ],
 "metadata": {
  "kernelspec": {
   "display_name": "Python 3",
   "language": "python",
   "name": "python3"
  },
  "language_info": {
   "codemirror_mode": {
    "name": "ipython",
    "version": 3
   },
   "file_extension": ".py",
   "mimetype": "text/x-python",
   "name": "python",
   "nbconvert_exporter": "python",
   "pygments_lexer": "ipython3",
   "version": "3.8.2"
  }
 },
 "nbformat": 4,
 "nbformat_minor": 4
}
